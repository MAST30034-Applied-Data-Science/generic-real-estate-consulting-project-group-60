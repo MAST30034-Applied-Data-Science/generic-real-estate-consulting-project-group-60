{
 "cells": [
  {
   "cell_type": "code",
   "execution_count": 146,
   "id": "d2b6cab6-edc2-4900-a9b7-aa31da09bf47",
   "metadata": {},
   "outputs": [],
   "source": [
    "# read top 10 growth rate and rent summary of each region\n",
    "import pandas as pd\n",
    "rent_summary = pd.read_csv('../data/curated/average_rent_year.csv')\n",
    "top10 = pd.read_csv('../data/curated/top_10.csv')"
   ]
  },
  {
   "cell_type": "code",
   "execution_count": 147,
   "id": "ec80473e-465f-4a44-9aa4-235666e1064f",
   "metadata": {},
   "outputs": [],
   "source": [
    "# get the region name of top 10\n",
    "top10_region = top10.columns"
   ]
  },
  {
   "cell_type": "code",
   "execution_count": 148,
   "id": "9cd80f79-a9b0-4f38-a377-967ed86f5570",
   "metadata": {},
   "outputs": [],
   "source": [
    "top10_region = list(top10_region)"
   ]
  },
  {
   "cell_type": "code",
   "execution_count": 149,
   "id": "4cdafc73-0931-4b3a-a5c8-dccd6dcd6ee6",
   "metadata": {},
   "outputs": [],
   "source": [
    "top10_region.remove('Unnamed: 0')"
   ]
  },
  {
   "cell_type": "code",
   "execution_count": 150,
   "id": "75a4e793-b190-4e85-9b57-71051976d806",
   "metadata": {},
   "outputs": [
    {
     "data": {
      "text/plain": [
       "['Golden Plains - South',\n",
       " 'Gannawarra',\n",
       " 'Irymple',\n",
       " 'Camperdown',\n",
       " 'Hamilton (Vic.)',\n",
       " 'Portarlington',\n",
       " 'Plenty - Yarrambat',\n",
       " 'St Arnaud',\n",
       " 'Cranbourne South',\n",
       " 'year']"
      ]
     },
     "execution_count": 150,
     "metadata": {},
     "output_type": "execute_result"
    }
   ],
   "source": [
    "top10_region"
   ]
  },
  {
   "cell_type": "code",
   "execution_count": 151,
   "id": "44725b5b-58be-4df5-8f5e-9c49954b5d8f",
   "metadata": {},
   "outputs": [],
   "source": [
    "# read the full property data \n",
    "property_17_22 = pd.read_csv('../data/curated/2017_2022_house_data_final.csv')\n",
    "property_23_25 = pd.read_csv('../data/curated/2023_2025_house_data_final.csv')"
   ]
  },
  {
   "cell_type": "code",
   "execution_count": 152,
   "id": "55cdbee3-c2ad-46c7-b5f4-38ed38c637cc",
   "metadata": {},
   "outputs": [],
   "source": [
    "property_23_25 = property_23_25.rename(columns={'year': 'years'})"
   ]
  },
  {
   "cell_type": "code",
   "execution_count": 153,
   "id": "63860194-a7a3-4c06-932b-cbfe776cd3d2",
   "metadata": {},
   "outputs": [],
   "source": [
    "property_23_25 = property_23_25.drop(['Unnamed: 0'],axis=1)\n",
    "property_17_22 = property_17_22.drop(['Unnamed: 0'],axis=1)"
   ]
  },
  {
   "cell_type": "code",
   "execution_count": 154,
   "id": "193aacee-e58f-4cac-bf8a-3c1f94e64f6e",
   "metadata": {},
   "outputs": [],
   "source": [
    "merge_data = property_17_22.append(property_23_25)"
   ]
  },
  {
   "cell_type": "code",
   "execution_count": 155,
   "id": "c12c0948-9313-4a45-8ac1-e48dcfdcc475",
   "metadata": {},
   "outputs": [],
   "source": [
    "for feature in ['bed','bath','car']:\n",
    "    merge_data[feature] = merge_data[feature].fillna(0)"
   ]
  },
  {
   "cell_type": "code",
   "execution_count": 156,
   "id": "f803397c-3a3b-4914-9772-169742bcfde9",
   "metadata": {},
   "outputs": [],
   "source": [
    "top10_region_all_feature = merge_data[merge_data.closest_sa2.isin(top10_region)]"
   ]
  },
  {
   "cell_type": "code",
   "execution_count": 157,
   "id": "5dce980f-3386-4beb-8d74-53a1ad2901ac",
   "metadata": {},
   "outputs": [
    {
     "name": "stderr",
     "output_type": "stream",
     "text": [
      "/Users/tianhao/opt/anaconda3/envs/ADS_env/lib/python3.6/site-packages/ipykernel_launcher.py:1: SettingWithCopyWarning: \n",
      "A value is trying to be set on a copy of a slice from a DataFrame.\n",
      "Try using .loc[row_indexer,col_indexer] = value instead\n",
      "\n",
      "See the caveats in the documentation: https://pandas.pydata.org/pandas-docs/stable/user_guide/indexing.html#returning-a-view-versus-a-copy\n",
      "  \"\"\"Entry point for launching an IPython kernel.\n"
     ]
    }
   ],
   "source": [
    "top10_region_all_feature['property_type'] = top10_region_all_feature['property_type'].str.replace(r'Category : ', '')"
   ]
  },
  {
   "cell_type": "code",
   "execution_count": 158,
   "id": "55b65ced-f171-44d8-8e39-4f9bf181a573",
   "metadata": {},
   "outputs": [],
   "source": [
    "# aggregate property type\n",
    "def agg_property_type(data):\n",
    "    data['property_type'] = data['property_type'].str.replace(r'Apartment / Unit / Flat', 'Apartment')\n",
    "    data['property_type'] = data['property_type'].str.replace(r'Unit/apmt ', 'Apartment')\n",
    "    data['property_type'] = data['property_type'].str.replace(r'Unit', 'Apartment')\n",
    "    data['property_type'] = data['property_type'].str.replace(r'Apartment/apmt', 'Apartment')\n",
    "    data['property_type'] = data['property_type'].str.replace(r'Rental_residential', 'Apartment')\n",
    "    data.loc[~data['property_type'].isin(['House', 'Apartment',\n",
    "                                                  'Townhouse']), 'property_type'] = 'Other'\n",
    "    return data"
   ]
  },
  {
   "cell_type": "code",
   "execution_count": 159,
   "id": "9cd97e93-c7e1-4063-ab5a-38ed1b62e1fd",
   "metadata": {},
   "outputs": [
    {
     "name": "stderr",
     "output_type": "stream",
     "text": [
      "/Users/tianhao/opt/anaconda3/envs/ADS_env/lib/python3.6/site-packages/ipykernel_launcher.py:3: SettingWithCopyWarning: \n",
      "A value is trying to be set on a copy of a slice from a DataFrame.\n",
      "Try using .loc[row_indexer,col_indexer] = value instead\n",
      "\n",
      "See the caveats in the documentation: https://pandas.pydata.org/pandas-docs/stable/user_guide/indexing.html#returning-a-view-versus-a-copy\n",
      "  This is separate from the ipykernel package so we can avoid doing imports until\n",
      "/Users/tianhao/opt/anaconda3/envs/ADS_env/lib/python3.6/site-packages/ipykernel_launcher.py:4: SettingWithCopyWarning: \n",
      "A value is trying to be set on a copy of a slice from a DataFrame.\n",
      "Try using .loc[row_indexer,col_indexer] = value instead\n",
      "\n",
      "See the caveats in the documentation: https://pandas.pydata.org/pandas-docs/stable/user_guide/indexing.html#returning-a-view-versus-a-copy\n",
      "  after removing the cwd from sys.path.\n",
      "/Users/tianhao/opt/anaconda3/envs/ADS_env/lib/python3.6/site-packages/ipykernel_launcher.py:5: SettingWithCopyWarning: \n",
      "A value is trying to be set on a copy of a slice from a DataFrame.\n",
      "Try using .loc[row_indexer,col_indexer] = value instead\n",
      "\n",
      "See the caveats in the documentation: https://pandas.pydata.org/pandas-docs/stable/user_guide/indexing.html#returning-a-view-versus-a-copy\n",
      "  \"\"\"\n",
      "/Users/tianhao/opt/anaconda3/envs/ADS_env/lib/python3.6/site-packages/ipykernel_launcher.py:6: SettingWithCopyWarning: \n",
      "A value is trying to be set on a copy of a slice from a DataFrame.\n",
      "Try using .loc[row_indexer,col_indexer] = value instead\n",
      "\n",
      "See the caveats in the documentation: https://pandas.pydata.org/pandas-docs/stable/user_guide/indexing.html#returning-a-view-versus-a-copy\n",
      "  \n",
      "/Users/tianhao/opt/anaconda3/envs/ADS_env/lib/python3.6/site-packages/ipykernel_launcher.py:7: SettingWithCopyWarning: \n",
      "A value is trying to be set on a copy of a slice from a DataFrame.\n",
      "Try using .loc[row_indexer,col_indexer] = value instead\n",
      "\n",
      "See the caveats in the documentation: https://pandas.pydata.org/pandas-docs/stable/user_guide/indexing.html#returning-a-view-versus-a-copy\n",
      "  import sys\n",
      "/Users/tianhao/opt/anaconda3/envs/ADS_env/lib/python3.6/site-packages/pandas/core/indexing.py:1763: SettingWithCopyWarning: \n",
      "A value is trying to be set on a copy of a slice from a DataFrame.\n",
      "Try using .loc[row_indexer,col_indexer] = value instead\n",
      "\n",
      "See the caveats in the documentation: https://pandas.pydata.org/pandas-docs/stable/user_guide/indexing.html#returning-a-view-versus-a-copy\n",
      "  isetter(loc, value)\n"
     ]
    }
   ],
   "source": [
    "top10_region_all_feature = agg_property_type(top10_region_all_feature)"
   ]
  },
  {
   "cell_type": "code",
   "execution_count": 160,
   "id": "23489b0f-bcf1-4b57-9d52-5aa029bfb78c",
   "metadata": {},
   "outputs": [
    {
     "data": {
      "text/plain": [
       "House        607\n",
       "Apartment    197\n",
       "Other         31\n",
       "Townhouse     26\n",
       "Name: property_type, dtype: int64"
      ]
     },
     "execution_count": 160,
     "metadata": {},
     "output_type": "execute_result"
    }
   ],
   "source": [
    "top10_region_all_feature.property_type.value_counts()"
   ]
  },
  {
   "cell_type": "code",
   "execution_count": 161,
   "id": "9e44414f-b6f9-4155-aa2e-6c512df5ba14",
   "metadata": {},
   "outputs": [
    {
     "data": {
      "image/png": "[encoded data removed]",
      "text/plain": [
       "<Figure size 360x360 with 1 Axes>"
      ]
     },
     "metadata": {},
     "output_type": "display_data"
    }
   ],
   "source": [
    "# visualization of percentage of property type\n",
    "df = pd.DataFrame({'number': [895, 578, 138,43]},\n",
    "                  index=['House', 'Apartment' , 'Townhouse','Other'])\n",
    "plot = df.plot.pie(y='number', figsize=(5, 5))"
   ]
  },
  {
   "cell_type": "code",
   "execution_count": 162,
   "id": "70979ba4-826f-42bf-9aec-b4138f951f1e",
   "metadata": {},
   "outputs": [],
   "source": [
    "population = pd.read_csv('../data/curated/population_final_predict.csv')"
   ]
  },
  {
   "cell_type": "code",
   "execution_count": 163,
   "id": "8439a5ee-9202-4b50-b974-f85ee3554c79",
   "metadata": {},
   "outputs": [],
   "source": [
    "population = population.drop(['Unnamed: 0','SA2 code','2026 Population','2031 Population','2036 Population'],axis=1)"
   ]
  },
  {
   "cell_type": "code",
   "execution_count": 164,
   "id": "f2e04a58-cd7b-4695-bad8-aa110a8bde34",
   "metadata": {},
   "outputs": [],
   "source": [
    "top10_pop = population[population['SA2 name'].isin(top10_region)].set_index('SA2 name').T"
   ]
  },
  {
   "cell_type": "code",
   "execution_count": 165,
   "id": "f437ae4d-c0d8-4a34-b1f0-f6a21cfbf20e",
   "metadata": {},
   "outputs": [],
   "source": [
    "top10_pop['year'] = [2017,2018,2019,2020,2021,2022,2023,2024,2025]"
   ]
  },
  {
   "cell_type": "code",
   "execution_count": 166,
   "id": "da7dc08c-2807-42be-8bdb-f4bd1983e542",
   "metadata": {},
   "outputs": [],
   "source": [
    "top10_pop.to_csv('../data/curated/top10_population.csv')"
   ]
  },
  {
   "cell_type": "code",
   "execution_count": 167,
   "id": "947793f1-47e0-4dd3-acba-35355e8f1074",
   "metadata": {},
   "outputs": [],
   "source": [
    "# Finding the feature in last 10 growth rate\n",
    "last_10 = pd.read_csv('../data/curated/last_10.csv')"
   ]
  },
  {
   "cell_type": "code",
   "execution_count": 168,
   "id": "f216e3e5-0863-4ae6-8362-63e528d44c7a",
   "metadata": {},
   "outputs": [],
   "source": [
    "last_10_region = list(last_10.columns)"
   ]
  },
  {
   "cell_type": "code",
   "execution_count": 169,
   "id": "dc12b426-ac61-40e1-98f2-e66d17e8d729",
   "metadata": {},
   "outputs": [],
   "source": [
    "last_10_region.remove('Unnamed: 0')"
   ]
  },
  {
   "cell_type": "code",
   "execution_count": 170,
   "id": "4623abe7-3d9a-4f51-9e9b-fccfa2a6a099",
   "metadata": {},
   "outputs": [],
   "source": [
    "last10_pop = population[population['SA2 name'].isin(last_10_region)].set_index('SA2 name').T"
   ]
  },
  {
   "cell_type": "code",
   "execution_count": 171,
   "id": "9e2ff4d1-51be-48f8-a547-a715de4d6ce8",
   "metadata": {},
   "outputs": [],
   "source": [
    "last10_pop['year'] = [2017,2018,2019,2020,2021,2022,2023,2024,2025]"
   ]
  },
  {
   "cell_type": "code",
   "execution_count": 172,
   "id": "82c7db42-0aca-45fd-9c29-13477e5a9c01",
   "metadata": {},
   "outputs": [],
   "source": [
    "last10_pop.to_csv('../data/curated/last10_population.csv')"
   ]
  },
  {
   "cell_type": "markdown",
   "id": "1d5b3477-2dfa-4eab-9949-011185863383",
   "metadata": {},
   "source": [
    "# As we know Wheelers Hill are the top 1 growth rate amoung all region, so we aims to finds some inspire from the data in this region"
   ]
  },
  {
   "cell_type": "code",
   "execution_count": 173,
   "id": "abc51486-289d-4555-92a2-bfe752a8f620",
   "metadata": {},
   "outputs": [],
   "source": [
    "wh = merge_data[merge_data.closest_sa2 == 'Wheelers Hill']"
   ]
  },
  {
   "cell_type": "code",
   "execution_count": 174,
   "id": "7688e667-a197-4bfd-949e-9760d8115dd9",
   "metadata": {},
   "outputs": [
    {
     "data": {
      "text/plain": [
       "4.0    51\n",
       "3.0    42\n",
       "5.0    14\n",
       "2.0     4\n",
       "Name: bed, dtype: int64"
      ]
     },
     "execution_count": 174,
     "metadata": {},
     "output_type": "execute_result"
    }
   ],
   "source": [
    "wh.bed.value_counts()"
   ]
  },
  {
   "cell_type": "code",
   "execution_count": 175,
   "id": "8bcbfe90-78cb-4721-b6ef-d999b04198e8",
   "metadata": {},
   "outputs": [
    {
     "data": {
      "image/png": "[encoded data removed]",
      "text/plain": [
       "<Figure size 360x360 with 1 Axes>"
      ]
     },
     "metadata": {},
     "output_type": "display_data"
    }
   ],
   "source": [
    "# visualization of percentage of property type\n",
    "df_wh = pd.DataFrame({'bed': [51, 42, 14,4]},\n",
    "                  index=['4 bed', '3 bed' , '5 bed','2 bed'])\n",
    "plot = df_wh.plot.pie(y='bed', figsize=(5, 5))"
   ]
  },
  {
   "cell_type": "code",
   "execution_count": 176,
   "id": "8b972bf9-54bf-4d2c-bd0b-1221e17a9a5e",
   "metadata": {},
   "outputs": [],
   "source": [
    "fature_in_wh = wh.groupby('years').mean('bed').reset_index()"
   ]
  },
  {
   "cell_type": "code",
   "execution_count": 177,
   "id": "089cbb0a-8b92-4200-8ee4-12a8caa8e19b",
   "metadata": {},
   "outputs": [],
   "source": [
    "fature_in_wh.to_csv('../data/curated/featureInWh.csv')"
   ]
  },
  {
   "cell_type": "code",
   "execution_count": 178,
   "id": "63a76677-5998-470b-aaff-9a3f9a100513",
   "metadata": {},
   "outputs": [
    {
     "data": {
      "text/html": [
       "<div>\n",
       "<style scoped>\n",
       "    .dataframe tbody tr th:only-of-type {\n",
       "        vertical-align: middle;\n",
       "    }\n",
       "\n",
       "    .dataframe tbody tr th {\n",
       "        vertical-align: top;\n",
       "    }\n",
       "\n",
       "    .dataframe thead th {\n",
       "        text-align: right;\n",
       "    }\n",
       "</style>\n",
       "<table border=\"1\" class=\"dataframe\">\n",
       "  <thead>\n",
       "    <tr style=\"text-align: right;\">\n",
       "      <th></th>\n",
       "      <th>years</th>\n",
       "      <th>postcode</th>\n",
       "      <th>bed</th>\n",
       "      <th>bath</th>\n",
       "      <th>car</th>\n",
       "      <th>Income</th>\n",
       "      <th>Population</th>\n",
       "      <th>Hospital num</th>\n",
       "    </tr>\n",
       "  </thead>\n",
       "  <tbody>\n",
       "    <tr>\n",
       "      <th>0</th>\n",
       "      <td>2017</td>\n",
       "      <td>3150</td>\n",
       "      <td>2.857143</td>\n",
       "      <td>1.428571</td>\n",
       "      <td>1.714286</td>\n",
       "      <td>67458.466667</td>\n",
       "      <td>20970.000000</td>\n",
       "      <td>2.0</td>\n",
       "    </tr>\n",
       "    <tr>\n",
       "      <th>1</th>\n",
       "      <td>2018</td>\n",
       "      <td>3150</td>\n",
       "      <td>4.500000</td>\n",
       "      <td>2.500000</td>\n",
       "      <td>1.500000</td>\n",
       "      <td>68887.866667</td>\n",
       "      <td>21033.000000</td>\n",
       "      <td>2.0</td>\n",
       "    </tr>\n",
       "    <tr>\n",
       "      <th>2</th>\n",
       "      <td>2019</td>\n",
       "      <td>3150</td>\n",
       "      <td>3.666667</td>\n",
       "      <td>2.000000</td>\n",
       "      <td>1.833333</td>\n",
       "      <td>70317.266667</td>\n",
       "      <td>21116.000000</td>\n",
       "      <td>2.0</td>\n",
       "    </tr>\n",
       "    <tr>\n",
       "      <th>3</th>\n",
       "      <td>2020</td>\n",
       "      <td>3150</td>\n",
       "      <td>3.428571</td>\n",
       "      <td>1.714286</td>\n",
       "      <td>1.642857</td>\n",
       "      <td>71746.666667</td>\n",
       "      <td>21164.000000</td>\n",
       "      <td>2.0</td>\n",
       "    </tr>\n",
       "    <tr>\n",
       "      <th>4</th>\n",
       "      <td>2021</td>\n",
       "      <td>3150</td>\n",
       "      <td>2.833333</td>\n",
       "      <td>1.500000</td>\n",
       "      <td>1.500000</td>\n",
       "      <td>73176.066667</td>\n",
       "      <td>20854.000000</td>\n",
       "      <td>2.0</td>\n",
       "    </tr>\n",
       "    <tr>\n",
       "      <th>5</th>\n",
       "      <td>2022</td>\n",
       "      <td>3150</td>\n",
       "      <td>3.842105</td>\n",
       "      <td>2.157895</td>\n",
       "      <td>2.000000</td>\n",
       "      <td>74605.466667</td>\n",
       "      <td>21396.226119</td>\n",
       "      <td>2.0</td>\n",
       "    </tr>\n",
       "    <tr>\n",
       "      <th>6</th>\n",
       "      <td>2023</td>\n",
       "      <td>3150</td>\n",
       "      <td>3.842105</td>\n",
       "      <td>2.157895</td>\n",
       "      <td>2.000000</td>\n",
       "      <td>76034.866667</td>\n",
       "      <td>21515.074396</td>\n",
       "      <td>2.0</td>\n",
       "    </tr>\n",
       "    <tr>\n",
       "      <th>7</th>\n",
       "      <td>2024</td>\n",
       "      <td>3150</td>\n",
       "      <td>3.842105</td>\n",
       "      <td>2.157895</td>\n",
       "      <td>2.000000</td>\n",
       "      <td>77464.266667</td>\n",
       "      <td>21633.922674</td>\n",
       "      <td>2.0</td>\n",
       "    </tr>\n",
       "    <tr>\n",
       "      <th>8</th>\n",
       "      <td>2025</td>\n",
       "      <td>3150</td>\n",
       "      <td>3.842105</td>\n",
       "      <td>2.157895</td>\n",
       "      <td>2.000000</td>\n",
       "      <td>78893.666667</td>\n",
       "      <td>21752.770952</td>\n",
       "      <td>2.0</td>\n",
       "    </tr>\n",
       "  </tbody>\n",
       "</table>\n",
       "</div>"
      ],
      "text/plain": [
       "   years  postcode       bed      bath       car        Income    Population  \\\n",
       "0   2017      3150  2.857143  1.428571  1.714286  67458.466667  20970.000000   \n",
       "1   2018      3150  4.500000  2.500000  1.500000  68887.866667  21033.000000   \n",
       "2   2019      3150  3.666667  2.000000  1.833333  70317.266667  21116.000000   \n",
       "3   2020      3150  3.428571  1.714286  1.642857  71746.666667  21164.000000   \n",
       "4   2021      3150  2.833333  1.500000  1.500000  73176.066667  20854.000000   \n",
       "5   2022      3150  3.842105  2.157895  2.000000  74605.466667  21396.226119   \n",
       "6   2023      3150  3.842105  2.157895  2.000000  76034.866667  21515.074396   \n",
       "7   2024      3150  3.842105  2.157895  2.000000  77464.266667  21633.922674   \n",
       "8   2025      3150  3.842105  2.157895  2.000000  78893.666667  21752.770952   \n",
       "\n",
       "   Hospital num  \n",
       "0           2.0  \n",
       "1           2.0  \n",
       "2           2.0  \n",
       "3           2.0  \n",
       "4           2.0  \n",
       "5           2.0  \n",
       "6           2.0  \n",
       "7           2.0  \n",
       "8           2.0  "
      ]
     },
     "execution_count": 178,
     "metadata": {},
     "output_type": "execute_result"
    }
   ],
   "source": [
    "fature_in_wh"
   ]
  }
 ],
 "metadata": {
  "kernelspec": {
   "display_name": "Python 3",
   "language": "python",
   "name": "python3"
  },
  "language_info": {
   "codemirror_mode": {
    "name": "ipython",
    "version": 3
   },
   "file_extension": ".py",
   "mimetype": "text/x-python",
   "name": "python",
   "nbconvert_exporter": "python",
   "pygments_lexer": "ipython3",
   "version": "3.6.13"
  }
 },
 "nbformat": 4,
 "nbformat_minor": 5
}
