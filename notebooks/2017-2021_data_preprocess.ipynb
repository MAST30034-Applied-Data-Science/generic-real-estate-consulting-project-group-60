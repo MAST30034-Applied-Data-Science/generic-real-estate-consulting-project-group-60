{
 "cells": [
  {
   "cell_type": "markdown",
   "metadata": {},
   "source": [
    "# data preprocessing of 2017-2021"
   ]
  },
  {
   "cell_type": "code",
   "execution_count": 1,
   "metadata": {},
   "outputs": [
    {
     "data": {
      "text/html": [
       "<div>\n",
       "<style scoped>\n",
       "    .dataframe tbody tr th:only-of-type {\n",
       "        vertical-align: middle;\n",
       "    }\n",
       "\n",
       "    .dataframe tbody tr th {\n",
       "        vertical-align: top;\n",
       "    }\n",
       "\n",
       "    .dataframe thead th {\n",
       "        text-align: right;\n",
       "    }\n",
       "</style>\n",
       "<table border=\"1\" class=\"dataframe\">\n",
       "  <thead>\n",
       "    <tr style=\"text-align: right;\">\n",
       "      <th></th>\n",
       "      <th>year_num</th>\n",
       "      <th>property_type</th>\n",
       "      <th>coordinates</th>\n",
       "      <th>postcode</th>\n",
       "      <th>sa2_region</th>\n",
       "      <th>bedroom_num</th>\n",
       "      <th>bathroom_num</th>\n",
       "      <th>parking_num</th>\n",
       "      <th>Income</th>\n",
       "      <th>Population</th>\n",
       "      <th>median_price</th>\n",
       "    </tr>\n",
       "  </thead>\n",
       "  <tbody>\n",
       "    <tr>\n",
       "      <th>0</th>\n",
       "      <td>2017</td>\n",
       "      <td>House</td>\n",
       "      <td>[-38.150918, 144.3508573]</td>\n",
       "      <td>3220</td>\n",
       "      <td>[Geelong, Newtown (Vic.)]</td>\n",
       "      <td>['3']</td>\n",
       "      <td>['2']</td>\n",
       "      <td>['1']</td>\n",
       "      <td>0</td>\n",
       "      <td>0</td>\n",
       "      <td>0</td>\n",
       "    </tr>\n",
       "    <tr>\n",
       "      <th>1</th>\n",
       "      <td>2017</td>\n",
       "      <td>Townhouse</td>\n",
       "      <td>[-37.7963514, 144.8290887]</td>\n",
       "      <td>3020</td>\n",
       "      <td>[Ardeer - Albion, Sunshine North, Sunshine Wes...</td>\n",
       "      <td>['3']</td>\n",
       "      <td>['2']</td>\n",
       "      <td>['1']</td>\n",
       "      <td>0</td>\n",
       "      <td>0</td>\n",
       "      <td>0</td>\n",
       "    </tr>\n",
       "    <tr>\n",
       "      <th>2</th>\n",
       "      <td>2017</td>\n",
       "      <td>Apartment / Unit / Flat</td>\n",
       "      <td>[-37.7519759, 144.933882]</td>\n",
       "      <td>3055</td>\n",
       "      <td>[Brunswick, Brunswick West]</td>\n",
       "      <td>['1']</td>\n",
       "      <td>['1']</td>\n",
       "      <td>['1']</td>\n",
       "      <td>0</td>\n",
       "      <td>0</td>\n",
       "      <td>0</td>\n",
       "    </tr>\n",
       "    <tr>\n",
       "      <th>3</th>\n",
       "      <td>2017</td>\n",
       "      <td>House</td>\n",
       "      <td>[-37.8508965, 145.1082513]</td>\n",
       "      <td>3125</td>\n",
       "      <td>[Surrey Hills (West) - Canterbury, Burwood]</td>\n",
       "      <td>['4']</td>\n",
       "      <td>['2']</td>\n",
       "      <td>['3']</td>\n",
       "      <td>0</td>\n",
       "      <td>0</td>\n",
       "      <td>0</td>\n",
       "    </tr>\n",
       "    <tr>\n",
       "      <th>4</th>\n",
       "      <td>2017</td>\n",
       "      <td>Apartment / Unit / Flat</td>\n",
       "      <td>[-37.4888069, 144.5882653]</td>\n",
       "      <td>3437</td>\n",
       "      <td>[Gisborne]</td>\n",
       "      <td>['2']</td>\n",
       "      <td>['1']</td>\n",
       "      <td>[]</td>\n",
       "      <td>0</td>\n",
       "      <td>0</td>\n",
       "      <td>0</td>\n",
       "    </tr>\n",
       "    <tr>\n",
       "      <th>...</th>\n",
       "      <td>...</td>\n",
       "      <td>...</td>\n",
       "      <td>...</td>\n",
       "      <td>...</td>\n",
       "      <td>...</td>\n",
       "      <td>...</td>\n",
       "      <td>...</td>\n",
       "      <td>...</td>\n",
       "      <td>...</td>\n",
       "      <td>...</td>\n",
       "      <td>...</td>\n",
       "    </tr>\n",
       "    <tr>\n",
       "      <th>15085</th>\n",
       "      <td>2021</td>\n",
       "      <td>Apartment / Unit / Flat</td>\n",
       "      <td>[-37.8342948, 144.9899046]</td>\n",
       "      <td>3141</td>\n",
       "      <td>[South Yarra - West, South Yarra - East]</td>\n",
       "      <td>['2']</td>\n",
       "      <td>['1']</td>\n",
       "      <td>['1']</td>\n",
       "      <td>0</td>\n",
       "      <td>0</td>\n",
       "      <td>0</td>\n",
       "    </tr>\n",
       "    <tr>\n",
       "      <th>15086</th>\n",
       "      <td>2021</td>\n",
       "      <td>House</td>\n",
       "      <td>[-37.6705458, 144.93931]</td>\n",
       "      <td>3047</td>\n",
       "      <td>[Broadmeadows, Campbellfield - Coolaroo]</td>\n",
       "      <td>['3']</td>\n",
       "      <td>['1']</td>\n",
       "      <td>['1']</td>\n",
       "      <td>0</td>\n",
       "      <td>0</td>\n",
       "      <td>0</td>\n",
       "    </tr>\n",
       "    <tr>\n",
       "      <th>15087</th>\n",
       "      <td>2021</td>\n",
       "      <td>House</td>\n",
       "      <td>[-37.5668039, 144.9092513]</td>\n",
       "      <td>3064</td>\n",
       "      <td>[Craigieburn - Central, Whittlesea, Roxburgh P...</td>\n",
       "      <td>['4']</td>\n",
       "      <td>['2']</td>\n",
       "      <td>['3']</td>\n",
       "      <td>0</td>\n",
       "      <td>0</td>\n",
       "      <td>0</td>\n",
       "    </tr>\n",
       "    <tr>\n",
       "      <th>15088</th>\n",
       "      <td>2021</td>\n",
       "      <td>House</td>\n",
       "      <td>[-37.7612678, 145.1538379]</td>\n",
       "      <td>3106</td>\n",
       "      <td>[Templestowe]</td>\n",
       "      <td>['4']</td>\n",
       "      <td>['2']</td>\n",
       "      <td>['2']</td>\n",
       "      <td>0</td>\n",
       "      <td>0</td>\n",
       "      <td>0</td>\n",
       "    </tr>\n",
       "    <tr>\n",
       "      <th>15089</th>\n",
       "      <td>2021</td>\n",
       "      <td>Apartment / Unit / Flat</td>\n",
       "      <td>[-37.7693153, 145.0177758]</td>\n",
       "      <td>3078</td>\n",
       "      <td>[Alphington - Fairfield]</td>\n",
       "      <td>['1']</td>\n",
       "      <td>['1']</td>\n",
       "      <td>['1']</td>\n",
       "      <td>0</td>\n",
       "      <td>0</td>\n",
       "      <td>0</td>\n",
       "    </tr>\n",
       "  </tbody>\n",
       "</table>\n",
       "<p>15090 rows × 11 columns</p>\n",
       "</div>"
      ],
      "text/plain": [
       "       year_num            property_type                 coordinates postcode  \\\n",
       "0          2017                    House   [-38.150918, 144.3508573]     3220   \n",
       "1          2017                Townhouse  [-37.7963514, 144.8290887]     3020   \n",
       "2          2017  Apartment / Unit / Flat   [-37.7519759, 144.933882]     3055   \n",
       "3          2017                    House  [-37.8508965, 145.1082513]     3125   \n",
       "4          2017  Apartment / Unit / Flat  [-37.4888069, 144.5882653]     3437   \n",
       "...         ...                      ...                         ...      ...   \n",
       "15085      2021  Apartment / Unit / Flat  [-37.8342948, 144.9899046]     3141   \n",
       "15086      2021                    House    [-37.6705458, 144.93931]     3047   \n",
       "15087      2021                    House  [-37.5668039, 144.9092513]     3064   \n",
       "15088      2021                    House  [-37.7612678, 145.1538379]     3106   \n",
       "15089      2021  Apartment / Unit / Flat  [-37.7693153, 145.0177758]     3078   \n",
       "\n",
       "                                              sa2_region bedroom_num  \\\n",
       "0                              [Geelong, Newtown (Vic.)]       ['3']   \n",
       "1      [Ardeer - Albion, Sunshine North, Sunshine Wes...       ['3']   \n",
       "2                            [Brunswick, Brunswick West]       ['1']   \n",
       "3            [Surrey Hills (West) - Canterbury, Burwood]       ['4']   \n",
       "4                                             [Gisborne]       ['2']   \n",
       "...                                                  ...         ...   \n",
       "15085           [South Yarra - West, South Yarra - East]       ['2']   \n",
       "15086           [Broadmeadows, Campbellfield - Coolaroo]       ['3']   \n",
       "15087  [Craigieburn - Central, Whittlesea, Roxburgh P...       ['4']   \n",
       "15088                                      [Templestowe]       ['4']   \n",
       "15089                           [Alphington - Fairfield]       ['1']   \n",
       "\n",
       "      bathroom_num parking_num  Income  Population  median_price  \n",
       "0            ['2']       ['1']       0           0             0  \n",
       "1            ['2']       ['1']       0           0             0  \n",
       "2            ['1']       ['1']       0           0             0  \n",
       "3            ['2']       ['3']       0           0             0  \n",
       "4            ['1']          []       0           0             0  \n",
       "...            ...         ...     ...         ...           ...  \n",
       "15085        ['1']       ['1']       0           0             0  \n",
       "15086        ['1']       ['1']       0           0             0  \n",
       "15087        ['2']       ['3']       0           0             0  \n",
       "15088        ['2']       ['2']       0           0             0  \n",
       "15089        ['1']       ['1']       0           0             0  \n",
       "\n",
       "[15090 rows x 11 columns]"
      ]
     },
     "execution_count": 1,
     "metadata": {},
     "output_type": "execute_result"
    }
   ],
   "source": [
    "import pandas as pd\n",
    "house_17_21_new = pd.read_csv('../data/raw/2017_2021_data.csv')\n",
    "from ast import literal_eval\n",
    "house_17_21_new['sa2_region'] = house_17_21_new['sa2_region'].apply(literal_eval)\n",
    "house_17_21_new"
   ]
  },
  {
   "cell_type": "markdown",
   "metadata": {},
   "source": [
    "# we fill in the median(estimate price) based on the region and the house kind(# of bedrooms), as for based on the project time, we use the September Quater as the median price from 2017-2021"
   ]
  },
  {
   "cell_type": "markdown",
   "metadata": {},
   "source": [
    "首先 看一下median price的区域是如何划分的，然后看一下两个区域的重复率有多少，如果没有重复的需要用邮箱编号或者是其他的方法merge，如果这种方法可行的话，可以把价格报告分成很多个，分为每一个户型的不同区域房屋的平均价格,然后两个数据集分别创造一列[房型，多少个bedroom,年份]，然后通过这一列来merge"
   ]
  },
  {
   "cell_type": "code",
   "execution_count": 2,
   "metadata": {},
   "outputs": [],
   "source": [
    "median_house_2017 = pd.read_csv('../data/raw/2017.csv')\n",
    "median_house_2018 = pd.read_csv('../data/raw/2018.csv')\n",
    "median_house_2019 = pd.read_csv('../data/raw/2019.csv')\n",
    "median_house_2020 = pd.read_csv('../data/raw/2020.csv')\n",
    "median_house_2021 = pd.read_csv('../data/raw/2021.csv')\n"
   ]
  },
  {
   "cell_type": "code",
   "execution_count": 3,
   "metadata": {},
   "outputs": [],
   "source": [
    "all_sub = []\n",
    "for value in median_house_2017['Suburb/town(2017)']:\n",
    "    all_sub.append(value)"
   ]
  },
  {
   "cell_type": "code",
   "execution_count": 4,
   "metadata": {},
   "outputs": [
    {
     "data": {
      "text/plain": [
       "Index(['Unnamed: 0', 'ID', 'Postcode', 'Locality', 'State', 'Longitude',\n",
       "       'Latitude', 'Category', 'Type', 'SA3', 'SA3 Name', 'SA4', 'SA4 Name',\n",
       "       'Region', 'Status', 'Lat (Google)', 'Long (Google)',\n",
       "       'SA1 MAINCODE 2011', 'SA1 MAINCODE 2016', 'SA2 MAINCODE 2016',\n",
       "       'SA2 NAME 2016', 'RA 2011', 'RA 2016', 'MMM 2015', 'MMM 2019', 'CED',\n",
       "       'Altitude', 'Charge Zone', 'PHN Code', 'PHN Name', 'LGA Region',\n",
       "       'Electorate', 'Electorate Rating'],\n",
       "      dtype='object')"
      ]
     },
     "execution_count": 4,
     "metadata": {},
     "output_type": "execute_result"
    }
   ],
   "source": [
    " sa2 = pd.read_csv('../data/raw/PostCode.csv')\n",
    " sa2.columns"
   ]
  },
  {
   "cell_type": "code",
   "execution_count": 5,
   "metadata": {},
   "outputs": [],
   "source": [
    "real_sa2=[]\n",
    "for value in sa2['SA2 NAME 2016']:\n",
    "    real_sa2.append(value)\n",
    "real_sa2=set(real_sa2)"
   ]
  },
  {
   "cell_type": "code",
   "execution_count": 6,
   "metadata": {},
   "outputs": [
    {
     "name": "stdout",
     "output_type": "stream",
     "text": [
      "{'Cranbourne', 'Southbank', 'Echuca', 'Horsham', 'Elwood', 'Fitzroy', 'Footscray', 'Dandenong', 'Torquay', 'Southern Grampians', 'Toorak', 'Loddon', 'Docklands', 'Swan Hill', 'Wodonga', 'Brighton East', 'Whittlesea', 'Moira', 'Sunbury', nan, 'Frankston', 'Hawthorn', 'Kew', 'Sydenham', 'Brunswick', 'Bayswater', 'Clayton', 'West Wimmera', 'Bendigo', 'St Kilda', 'Melbourne', 'Towong', 'Carnegie', 'Thornbury', 'Wangaratta', 'Sunshine', 'Boronia', 'Springvale', 'Northcote', 'Maribyrnong', 'Morwell', 'Bairnsdale', 'Ararat', 'Altona', 'Williamstown', 'Malvern East', 'Balwyn', 'South Melbourne', 'Seymour', 'Melton', 'Traralgon', 'Yarriambiack', 'Elsternwick', 'Keilor', 'East Melbourne', 'Ballarat', 'Warragul', 'Castlemaine', 'Ringwood', 'Gannawarra', 'Lara', 'Armadale', 'Box Hill', 'Portland', 'Benalla', 'Blackburn', 'Port Melbourne', 'Buloke'}\n"
     ]
    }
   ],
   "source": [
    "#we see that in this report there is some region in common which indicate that we can generate the historical housing data using the median price \n",
    "#of the house to replace the actual rent of the house\n",
    "real_sa2=list(real_sa2)\n",
    "print(set(real_sa2)&set(all_sub))"
   ]
  },
  {
   "cell_type": "code",
   "execution_count": 43,
   "metadata": {},
   "outputs": [],
   "source": [
    "# use the first SA2 area as the area which the house belows to \n",
    "#如果找到了每一个区域的话，可以把每一个区域的的code和经纬度坐标搞成一个字典，然后房子的经纬度坐标分别和每个区域的经纬度坐标算一个距离，并且把房子分配给最近的SA2区域中心\n",
    "SA2_centroids = pd.read_csv('../data/raw/mb_2016_centroids.csv')\n",
    "all_value = []\n",
    "SA2_vic = SA2_centroids[SA2_centroids['STE_NAME16']=='Victoria']\n",
    "SA2_vic = SA2_vic[['SA2_MAIN16','SA2_NAME16','xcoord','ycoord']]\n",
    "SA2_vic.head()\n",
    "SA2_vic_xcoord = SA2_vic.groupby('SA2_NAME16')[\"xcoord\"].mean()\n",
    "SA2_vic_ycoord = SA2_vic.groupby('SA2_NAME16')[\"ycoord\"].mean()\n",
    "#现在拿到了所有SA2的中心区域\n",
    "SA2_vic_xy = pd.merge(SA2_vic_xcoord,SA2_vic_ycoord,left_on = 'SA2_NAME16',right_on = 'SA2_NAME16')\n",
    "#groupy the SA2_NAME16 and take the average of xcoord and ycoord"
   ]
  },
  {
   "cell_type": "markdown",
   "metadata": {},
   "source": [
    "sa2_region去除重复，加入一列[property_type,sa2_region,bedroom_num,year_num],用这个来merge，填入median price，然后把所有的有median price的数据，作为历史数据\n",
    "\n",
    "如果数据量很小的话就多弄几次，从一开始的数据生成开始，最好merge的过程写成function"
   ]
  }
 ],
 "metadata": {
  "kernelspec": {
   "display_name": "Python 3.10.6 64-bit",
   "language": "python",
   "name": "python3"
  },
  "language_info": {
   "codemirror_mode": {
    "name": "ipython",
    "version": 3
   },
   "file_extension": ".py",
   "mimetype": "text/x-python",
   "name": "python",
   "nbconvert_exporter": "python",
   "pygments_lexer": "ipython3",
   "version": "3.10.6"
  },
  "orig_nbformat": 4,
  "vscode": {
   "interpreter": {
    "hash": "aee8b7b246df8f9039afb4144a1f6fd8d2ca17a180786b69acc140d282b71a49"
   }
  }
 },
 "nbformat": 4,
 "nbformat_minor": 2
}
