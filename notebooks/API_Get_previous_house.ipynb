{
 "cells": [
  {
   "cell_type": "markdown",
   "metadata": {},
   "source": [
    "# Using API to ge the housing data (which is actually not used further)"
   ]
  },
  {
   "cell_type": "code",
   "execution_count": 37,
   "metadata": {},
   "outputs": [],
   "source": [
    "import requests\n",
    "import json\n",
    "import pandas as pd"
   ]
  },
  {
   "cell_type": "code",
   "execution_count": 40,
   "metadata": {},
   "outputs": [],
   "source": [
    "auth_url='https://auth.domain.com.au/v1/connect/token' # connect the token"
   ]
  },
  {
   "cell_type": "code",
   "execution_count": 41,
   "metadata": {},
   "outputs": [],
   "source": [
    "url_endpoint = \"https://api.domain.com.au/v1/listings/residential/_search\" \n",
    "scopes=\"api_listings_read\"\n",
    "property_id =  \"RF-8884-AK\""
   ]
  },
  {
   "cell_type": "code",
   "execution_count": 42,
   "metadata": {},
   "outputs": [],
   "source": [
    "# the formating of data which want to get\n",
    "format = {\n",
    "  \"listingType\":\"Sold\",\n",
    "  \"propertyTypes\":[\n",
    "    \"House\",\n",
    "    \"NewApartments\"\n",
    "  ],\n",
    "  \"minBedrooms\":1,\n",
    "  \"minBathrooms\":1,\n",
    "  \"minCarspaces\":0,\n",
    "  \"locations\":[\n",
    "    {\n",
    "      \"state\":\"VIC\",\n",
    "      \"region\":\"\",\n",
    "      \"area\":\"\",\n",
    "      \"suburb\":\"\",\n",
    "      \"postCode\":\"\",\n",
    "      \"includeSurroundingSuburbs\":False\n",
    "    }\n",
    "  ],\n",
    "\"listedSince\": \"2017-01-11T06:39:30.948Z\",\n",
    "\"dateAvailableFrom\": \"2017-01-01T06:39:30.948Z\"\n",
    "}"
   ]
  },
  {
   "cell_type": "code",
   "execution_count": 57,
   "metadata": {},
   "outputs": [
    {
     "name": "stdout",
     "output_type": "stream",
     "text": [
      "f69b0674168b87c070c886805270ce5d\n"
     ]
    }
   ],
   "source": [
    "def get_property_info():\n",
    "    response = requests.post(auth_url, data= {\n",
    "                        'client_id':clientId,\n",
    "                        'client_secret':secret,\n",
    "                        'grant_type':'client_credentials',\n",
    "                        'scope':scopes,\n",
    "                        'Content-Type':'text/json'\n",
    "                        })\n",
    "    json_res = response.json()\n",
    "    access_token = json_res['access_token']\n",
    "    print(access_token)\n",
    "    auth = {'Authorization':'Bearer ' + access_token}\n",
    "    #url = url_endpoint+property_id\n",
    "    url=url_endpoint \n",
    "    format = {\n",
    "      \"listingType\":\"Rent\",\n",
    "      'pageSize':200,\n",
    "      'pageNumber':1,\n",
    "      #\"propertyTypes\":[\n",
    "       # \"House\",\n",
    "        #\"NewApartments\"\n",
    "      #],\n",
    "      \"locations\":[\n",
    "        {\n",
    "          \"state\":\"VIC\",\n",
    "          \"region\":\"\",\n",
    "          \"area\":\"\",\n",
    "          \"suburb\":\"\",\n",
    "          \"postCode\":\"\",\n",
    "          \"includeSurroundingSuburbs\":''\n",
    "        }\n",
    "     ]\n",
    "    }\n",
    "    resl=requests.post(url,headers=auth,json=format)\n",
    "    #resl = requests.get(url, headers=auth)\n",
    "    r = json.loads(resl.text)\n",
    "    df=pd.json_normalize(r)\n",
    "    return df  \n",
    "df=get_property_info()\n",
    "\n",
    "\n"
   ]
  },
  {
   "cell_type": "code",
   "execution_count": 60,
   "metadata": {},
   "outputs": [
    {
     "data": {
      "text/plain": [
       "0       370000.0\n",
       "1      1380000.0\n",
       "2      1455000.0\n",
       "3       525000.0\n",
       "4      1127300.0\n",
       "         ...    \n",
       "195     670000.0\n",
       "196     985000.0\n",
       "197     698000.0\n",
       "198     815000.0\n",
       "199     975000.0\n",
       "Name: listing.priceDetails.price, Length: 200, dtype: float64"
      ]
     },
     "execution_count": 60,
     "metadata": {},
     "output_type": "execute_result"
    }
   ],
   "source": [
    "df['listing.priceDetails.price']"
   ]
  },
  {
   "cell_type": "code",
   "execution_count": 45,
   "metadata": {},
   "outputs": [],
   "source": [
    "format = {\n",
    "      \"listingType\":\"Rent\",\n",
    "      'pageSize':200,\n",
    "      'pageNumber':1,\n",
    "      \"propertyTypes\":[\n",
    "        \"House\",\n",
    "        \"NewApartments\"\n",
    "      ],\n",
    "      \"minBedrooms\":1,\n",
    "     \"minBathrooms\":1,\n",
    "     \"minCarspaces\":0,\n",
    "      \"locations\":[\n",
    "        {\n",
    "          \"state\":\"VIC\",\n",
    "          \"region\":\"\",\n",
    "          \"area\":\"\",\n",
    "          \"suburb\":\"\",\n",
    "          \"postCode\":\"\",\n",
    "          \"includeSurroundingSuburbs\":''\n",
    "        }\n",
    "     ],\n",
    "    \"listedSince\": \"2017-01-11T06:39:30.948Z\",\n",
    "    \"dateAvailableFrom\": \"2017-01-01T06:39:30.948Z\"\n",
    "    }"
   ]
  },
  {
   "cell_type": "markdown",
   "metadata": {},
   "source": [
    "https://developer.domain.com.au/docs/v1/apis/pkg_agents_listings/references/listings_detailedresidentialsearch"
   ]
  },
  {
   "cell_type": "code",
   "execution_count": null,
   "metadata": {},
   "outputs": [],
   "source": []
  },
  {
   "cell_type": "code",
   "execution_count": null,
   "metadata": {},
   "outputs": [],
   "source": []
  }
 ],
 "metadata": {
  "kernelspec": {
   "display_name": "Python 3 (ipykernel)",
   "language": "python",
   "name": "python3"
  },
  "language_info": {
   "codemirror_mode": {
    "name": "ipython",
    "version": 3
   },
   "file_extension": ".py",
   "mimetype": "text/x-python",
   "name": "python",
   "nbconvert_exporter": "python",
   "pygments_lexer": "ipython3",
   "version": "3.9.7"
  },
  "vscode": {
   "interpreter": {
    "hash": "aee8b7b246df8f9039afb4144a1f6fd8d2ca17a180786b69acc140d282b71a49"
   }
  }
 },
 "nbformat": 4,
 "nbformat_minor": 4
}
