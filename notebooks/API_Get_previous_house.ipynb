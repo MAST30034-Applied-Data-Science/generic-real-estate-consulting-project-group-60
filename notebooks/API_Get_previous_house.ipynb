{
 "cells": [
  {
   "cell_type": "markdown",
   "metadata": {},
   "source": [
    "Using API to get the previous housing data"
   ]
  },
  {
   "cell_type": "code",
   "execution_count": 1,
   "metadata": {},
   "outputs": [],
   "source": [
    "import requests\n",
    "import json"
   ]
  },
  {
   "cell_type": "code",
   "execution_count": 2,
   "metadata": {},
   "outputs": [],
   "source": [
    "clientId = \"client_6ac927bd0590cbfb1748c42a0d7ebc79\"\n",
    "secret = \"secret_9eb632823b87f779421bdffc935335f7\""
   ]
  },
  {
   "cell_type": "code",
   "execution_count": 3,
   "metadata": {},
   "outputs": [],
   "source": [
    "auth_url = \"https://auth.domain.com.au/v1/connect/token\""
   ]
  },
  {
   "cell_type": "code",
   "execution_count": 4,
   "metadata": {},
   "outputs": [],
   "source": [
    "url_endpoint = \"https://api.domain.com.au/v1/properties/\"\n",
    "property_id =  \"RF-8884-AK\""
   ]
  },
  {
   "cell_type": "code",
   "execution_count": 5,
   "metadata": {},
   "outputs": [],
   "source": [
    "\n",
    "\n",
    "\n",
    "\n",
    "def get_property_info():\n",
    "\n",
    "    response = requests.post(auth_url, data= {'client_id':clientId,'client_secret':secret,'grant_type':'Client_credentials ',\\\n",
    "    \"scope\":\"api_agencies_read api_listings_read\"})\n",
    "\n",
    "    json_res = response.json()\n",
    "    access_token = json_res['access_token']\n",
    "    print(access_token)\n",
    "    auth = {'Authorization':'Bearer ' + access_token}\n",
    "    url = url_endpoint+property_id\n",
    "    resl = requests.get(url, headers=auth)\n",
    "    r = resl.json()\n",
    "    print(r)\n",
    "\n",
    "\n"
   ]
  },
  {
   "cell_type": "code",
   "execution_count": 14,
   "metadata": {},
   "outputs": [],
   "source": [
    "response = requests.post(auth_url, data= {'client_id':clientId,'client_secret':secret,'grant_type':'client_credentials',\\\n",
    "    \"scope\":\"api_agencies_read api_listings_read\"})\n",
    "\n",
    "json_res = response.json()\n",
    "access_token = json_res['access_token']\n",
    "print(access_token)\n",
    "auth = {'Authorization':'Bearer ' + access_token}\n",
    "url = url_endpoint+property_id\n",
    "resl = requests.get(url, headers=auth)\n",
    "r = resl.json()\n",
    "print(r)\n"
   ]
  }
 ],
 "metadata": {
  "kernelspec": {
   "display_name": "Python 3.8.13 ('MAST30034')",
   "language": "python",
   "name": "python3"
  },
  "language_info": {
   "codemirror_mode": {
    "name": "ipython",
    "version": 3
   },
   "file_extension": ".py",
   "mimetype": "text/x-python",
   "name": "python",
   "nbconvert_exporter": "python",
   "pygments_lexer": "ipython3",
   "version": "3.8.13"
  },
  "orig_nbformat": 4,
  "vscode": {
   "interpreter": {
    "hash": "6193ab8050a3badcc2d3c193784d2c586a4cd29ba426e83f1dfb13462b79c789"
   }
  }
 },
 "nbformat": 4,
 "nbformat_minor": 2
}
