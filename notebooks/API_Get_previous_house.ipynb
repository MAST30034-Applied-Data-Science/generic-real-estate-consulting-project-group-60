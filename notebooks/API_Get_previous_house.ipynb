{
 "cells": [
  {
   "cell_type": "markdown",
   "metadata": {},
   "source": [
    "Using API to get the previous housing data"
   ]
  },
  {
   "cell_type": "code",
   "execution_count": 1,
   "metadata": {},
   "outputs": [],
   "source": [
    "import requests\n",
    "import json"
   ]
  },
  {
   "cell_type": "code",
   "execution_count": 2,
   "metadata": {},
   "outputs": [],
   "source": [
    "import pandas as pd"
   ]
  },
  {
   "cell_type": "code",
   "execution_count": 3,
   "metadata": {},
   "outputs": [],
   "source": [
    "clientId = \"client_3974f5e557787443f57c8994b6d1746d\"\n",
    "secret = \"secret_66867d2989555103380fa7a16e5312f0\""
   ]
  },
  {
   "cell_type": "code",
   "execution_count": 4,
   "metadata": {},
   "outputs": [],
   "source": [
    "auth_url='https://auth.domain.com.au/v1/connect/token'"
   ]
  },
  {
   "cell_type": "code",
   "execution_count": 8,
   "metadata": {},
   "outputs": [],
   "source": [
    "url_endpoint = \"https://api.domain.com.au/v1/listings/residential/_search\"\n",
    "scopes=[\"api_listings_read\"]\n",
    "property_id =  \"RF-8884-AK\""
   ]
  },
  {
   "cell_type": "code",
   "execution_count": 15,
   "metadata": {},
   "outputs": [],
   "source": [
    "format = {\n",
    "  \"listingType\":\"Rent\",\n",
    "  \"propertyTypes\":[\n",
    "    \"House\",\n",
    "    \"NewApartments\"\n",
    "  ],\n",
    "  \"minBedrooms\":1,\n",
    "  \"minBathrooms\":1,\n",
    "  \"minCarspaces\":0,\n",
    "  \"locations\":[\n",
    "    {\n",
    "      \"state\":\"VIC\",\n",
    "      \"region\":\"\",\n",
    "      \"area\":\"\",\n",
    "      \"suburb\":\"\",\n",
    "      \"postCode\":\"\",\n",
    "      \"includeSurroundingSuburbs\":False\n",
    "    }\n",
    "  ],\n",
    "\"listedSince\": \"2017-01-11T06:39:30.948Z\",\n",
    "\"dateAvailableFrom\": \"2017-01-01T06:39:30.948Z\"\n",
    "\n",
    "}"
   ]
  },
  {
   "cell_type": "code",
   "execution_count": 17,
   "metadata": {},
   "outputs": [
    {
     "ename": "KeyError",
     "evalue": "'access_token'",
     "output_type": "error",
     "traceback": [
      "\u001b[0;31m---------------------------------------------------------------------------\u001b[0m",
      "\u001b[0;31mKeyError\u001b[0m                                  Traceback (most recent call last)",
      "\u001b[1;32m/Users/kevin/Documents/GitHub/generic-real-estate-consulting-project-group-60/notebooks/API_Get_previous_house.ipynb Cell 8\u001b[0m in \u001b[0;36m<cell line: 46>\u001b[0;34m()\u001b[0m\n\u001b[1;32m     <a href='vscode-notebook-cell:/Users/kevin/Documents/GitHub/generic-real-estate-consulting-project-group-60/notebooks/API_Get_previous_house.ipynb#X10sZmlsZQ%3D%3D?line=41'>42</a>\u001b[0m     df\u001b[39m=\u001b[39mpd\u001b[39m.\u001b[39mjson_normalize(r)\n\u001b[1;32m     <a href='vscode-notebook-cell:/Users/kevin/Documents/GitHub/generic-real-estate-consulting-project-group-60/notebooks/API_Get_previous_house.ipynb#X10sZmlsZQ%3D%3D?line=42'>43</a>\u001b[0m     \u001b[39mreturn\u001b[39;00m df\n\u001b[0;32m---> <a href='vscode-notebook-cell:/Users/kevin/Documents/GitHub/generic-real-estate-consulting-project-group-60/notebooks/API_Get_previous_house.ipynb#X10sZmlsZQ%3D%3D?line=45'>46</a>\u001b[0m get_property_info()\n",
      "\u001b[1;32m/Users/kevin/Documents/GitHub/generic-real-estate-consulting-project-group-60/notebooks/API_Get_previous_house.ipynb Cell 8\u001b[0m in \u001b[0;36mget_property_info\u001b[0;34m()\u001b[0m\n\u001b[1;32m      <a href='vscode-notebook-cell:/Users/kevin/Documents/GitHub/generic-real-estate-consulting-project-group-60/notebooks/API_Get_previous_house.ipynb#X10sZmlsZQ%3D%3D?line=2'>3</a>\u001b[0m response \u001b[39m=\u001b[39m requests\u001b[39m.\u001b[39mpost(auth_url, data\u001b[39m=\u001b[39m {\n\u001b[1;32m      <a href='vscode-notebook-cell:/Users/kevin/Documents/GitHub/generic-real-estate-consulting-project-group-60/notebooks/API_Get_previous_house.ipynb#X10sZmlsZQ%3D%3D?line=3'>4</a>\u001b[0m   \u001b[39m'\u001b[39m\u001b[39mclient_id\u001b[39m\u001b[39m'\u001b[39m:clientId,\n\u001b[1;32m      <a href='vscode-notebook-cell:/Users/kevin/Documents/GitHub/generic-real-estate-consulting-project-group-60/notebooks/API_Get_previous_house.ipynb#X10sZmlsZQ%3D%3D?line=4'>5</a>\u001b[0m   \u001b[39m'\u001b[39m\u001b[39mclient_secret\u001b[39m\u001b[39m'\u001b[39m:secret,\n\u001b[0;32m   (...)\u001b[0m\n\u001b[1;32m      <a href='vscode-notebook-cell:/Users/kevin/Documents/GitHub/generic-real-estate-consulting-project-group-60/notebooks/API_Get_previous_house.ipynb#X10sZmlsZQ%3D%3D?line=7'>8</a>\u001b[0m \u001b[39m'\u001b[39m\u001b[39mContent-Type\u001b[39m\u001b[39m'\u001b[39m:\u001b[39m'\u001b[39m\u001b[39mtext/json\u001b[39m\u001b[39m'\u001b[39m\n\u001b[1;32m      <a href='vscode-notebook-cell:/Users/kevin/Documents/GitHub/generic-real-estate-consulting-project-group-60/notebooks/API_Get_previous_house.ipynb#X10sZmlsZQ%3D%3D?line=8'>9</a>\u001b[0m })\n\u001b[1;32m     <a href='vscode-notebook-cell:/Users/kevin/Documents/GitHub/generic-real-estate-consulting-project-group-60/notebooks/API_Get_previous_house.ipynb#X10sZmlsZQ%3D%3D?line=10'>11</a>\u001b[0m json_res \u001b[39m=\u001b[39m response\u001b[39m.\u001b[39mjson()\n\u001b[0;32m---> <a href='vscode-notebook-cell:/Users/kevin/Documents/GitHub/generic-real-estate-consulting-project-group-60/notebooks/API_Get_previous_house.ipynb#X10sZmlsZQ%3D%3D?line=11'>12</a>\u001b[0m access_token \u001b[39m=\u001b[39m json_res[\u001b[39m'\u001b[39;49m\u001b[39maccess_token\u001b[39;49m\u001b[39m'\u001b[39;49m]\n\u001b[1;32m     <a href='vscode-notebook-cell:/Users/kevin/Documents/GitHub/generic-real-estate-consulting-project-group-60/notebooks/API_Get_previous_house.ipynb#X10sZmlsZQ%3D%3D?line=12'>13</a>\u001b[0m \u001b[39mprint\u001b[39m(access_token)\n\u001b[1;32m     <a href='vscode-notebook-cell:/Users/kevin/Documents/GitHub/generic-real-estate-consulting-project-group-60/notebooks/API_Get_previous_house.ipynb#X10sZmlsZQ%3D%3D?line=13'>14</a>\u001b[0m auth \u001b[39m=\u001b[39m {\u001b[39m'\u001b[39m\u001b[39mAuthorization\u001b[39m\u001b[39m'\u001b[39m:\u001b[39m'\u001b[39m\u001b[39mBearer \u001b[39m\u001b[39m'\u001b[39m \u001b[39m+\u001b[39m access_token}\n",
      "\u001b[0;31mKeyError\u001b[0m: 'access_token'"
     ]
    }
   ],
   "source": [
    "def get_property_info():\n",
    "\n",
    "    response = requests.post(auth_url, data= {\n",
    "      'client_id':clientId,\n",
    "      'client_secret':secret,\n",
    "      'grant_type':'client_credentials ',\n",
    "    \"scope\":scopes,\n",
    "    'Content-Type':'text/json'\n",
    "    })\n",
    "\n",
    "    json_res = response.json()\n",
    "    access_token = json_res['access_token']\n",
    "    print(access_token)\n",
    "    auth = {'Authorization':'Bearer ' + access_token}\n",
    "    #url = url_endpoint+property_id\n",
    "    url=url_endpoint\n",
    "    format = {\n",
    "      \"listingType\":\"Rent\",\n",
    "      \"propertyTypes\":[\n",
    "        \"House\",\n",
    "        \"NewApartments\"\n",
    "      ],\n",
    "      \"minBedrooms\":1,\n",
    "     \"minBathrooms\":1,\n",
    "     \"minCarspaces\":0,\n",
    "      \"locations\":[\n",
    "        {\n",
    "          \"state\":\"VIC\",\n",
    "          \"region\":\"\",\n",
    "          \"area\":\"\",\n",
    "          \"suburb\":\"\",\n",
    "          \"postCode\":\"\",\n",
    "          \"includeSurroundingSuburbs\":False\n",
    "        }\n",
    "     ],\n",
    "    \"listedSince\": \"2017-01-11T06:39:30.948Z\",\n",
    "    \"dateAvailableFrom\": \"2017-01-01T06:39:30.948Z\"\n",
    "    }\n",
    "    resl=requests.post(url,headers=auth,json=format)\n",
    "    #resl = requests.get(url, headers=auth)\n",
    "    r = json.loads(resl.text)\n",
    "    df=pd.json_normalize(r)\n",
    "    return df\n",
    "\n",
    "    \n",
    "get_property_info()\n",
    "\n",
    "\n"
   ]
  },
  {
   "cell_type": "code",
   "execution_count": 8,
   "metadata": {},
   "outputs": [
    {
     "ename": "KeyError",
     "evalue": "'access_token'",
     "output_type": "error",
     "traceback": [
      "\u001b[0;31m---------------------------------------------------------------------------\u001b[0m",
      "\u001b[0;31mKeyError\u001b[0m                                  Traceback (most recent call last)",
      "\u001b[1;32m/Users/kevin/Documents/GitHub/generic-real-estate-consulting-project-group-60/notebooks/API_Get_previous_house.ipynb Cell 9\u001b[0m in \u001b[0;36m<cell line: 1>\u001b[0;34m()\u001b[0m\n\u001b[0;32m----> <a href='vscode-notebook-cell:/Users/kevin/Documents/GitHub/generic-real-estate-consulting-project-group-60/notebooks/API_Get_previous_house.ipynb#X24sZmlsZQ%3D%3D?line=0'>1</a>\u001b[0m get_property_info(clientId \u001b[39m=\u001b[39;49m \u001b[39m\"\u001b[39;49m\u001b[39mclient_3974f5e557787443f57c8994b6d1746d\u001b[39;49m\u001b[39m\"\u001b[39;49m,\n\u001b[1;32m      <a href='vscode-notebook-cell:/Users/kevin/Documents/GitHub/generic-real-estate-consulting-project-group-60/notebooks/API_Get_previous_house.ipynb#X24sZmlsZQ%3D%3D?line=1'>2</a>\u001b[0m secret \u001b[39m=\u001b[39;49m \u001b[39m\"\u001b[39;49m\u001b[39msecret_66867d2989555103380fa7a16e5312f0\u001b[39;49m\u001b[39m\"\u001b[39;49m)\n",
      "\u001b[1;32m/Users/kevin/Documents/GitHub/generic-real-estate-consulting-project-group-60/notebooks/API_Get_previous_house.ipynb Cell 9\u001b[0m in \u001b[0;36mget_property_info\u001b[0;34m(clientId, secret)\u001b[0m\n\u001b[1;32m      <a href='vscode-notebook-cell:/Users/kevin/Documents/GitHub/generic-real-estate-consulting-project-group-60/notebooks/API_Get_previous_house.ipynb#X24sZmlsZQ%3D%3D?line=2'>3</a>\u001b[0m response \u001b[39m=\u001b[39m requests\u001b[39m.\u001b[39mpost(auth_url, data\u001b[39m=\u001b[39m {\u001b[39m'\u001b[39m\u001b[39mclient_id\u001b[39m\u001b[39m'\u001b[39m:clientId,\u001b[39m'\u001b[39m\u001b[39mclient_secret\u001b[39m\u001b[39m'\u001b[39m:secret,\u001b[39m'\u001b[39m\u001b[39mgrant_type\u001b[39m\u001b[39m'\u001b[39m:\u001b[39m'\u001b[39m\u001b[39mClient_credentials \u001b[39m\u001b[39m'\u001b[39m,\\\n\u001b[1;32m      <a href='vscode-notebook-cell:/Users/kevin/Documents/GitHub/generic-real-estate-consulting-project-group-60/notebooks/API_Get_previous_house.ipynb#X24sZmlsZQ%3D%3D?line=3'>4</a>\u001b[0m \u001b[39m\"\u001b[39m\u001b[39mscope\u001b[39m\u001b[39m\"\u001b[39m:\u001b[39m\"\u001b[39m\u001b[39mapi_listings_read\u001b[39m\u001b[39m\"\u001b[39m})\n\u001b[1;32m      <a href='vscode-notebook-cell:/Users/kevin/Documents/GitHub/generic-real-estate-consulting-project-group-60/notebooks/API_Get_previous_house.ipynb#X24sZmlsZQ%3D%3D?line=5'>6</a>\u001b[0m json_res \u001b[39m=\u001b[39m response\u001b[39m.\u001b[39mjson()\n\u001b[0;32m----> <a href='vscode-notebook-cell:/Users/kevin/Documents/GitHub/generic-real-estate-consulting-project-group-60/notebooks/API_Get_previous_house.ipynb#X24sZmlsZQ%3D%3D?line=6'>7</a>\u001b[0m access_token \u001b[39m=\u001b[39m json_res[\u001b[39m'\u001b[39;49m\u001b[39maccess_token\u001b[39;49m\u001b[39m'\u001b[39;49m]\n\u001b[1;32m      <a href='vscode-notebook-cell:/Users/kevin/Documents/GitHub/generic-real-estate-consulting-project-group-60/notebooks/API_Get_previous_house.ipynb#X24sZmlsZQ%3D%3D?line=7'>8</a>\u001b[0m \u001b[39mprint\u001b[39m(access_token)\n\u001b[1;32m      <a href='vscode-notebook-cell:/Users/kevin/Documents/GitHub/generic-real-estate-consulting-project-group-60/notebooks/API_Get_previous_house.ipynb#X24sZmlsZQ%3D%3D?line=8'>9</a>\u001b[0m auth \u001b[39m=\u001b[39m {\u001b[39m'\u001b[39m\u001b[39mAuthorization\u001b[39m\u001b[39m'\u001b[39m:\u001b[39m'\u001b[39m\u001b[39mBearer \u001b[39m\u001b[39m'\u001b[39m \u001b[39m+\u001b[39m access_token}\n",
      "\u001b[0;31mKeyError\u001b[0m: 'access_token'"
     ]
    }
   ],
   "source": [
    "get_property_info(clientId = \"client_3974f5e557787443f57c8994b6d1746d\",\n",
    "secret = \"secret_66867d2989555103380fa7a16e5312f0\")"
   ]
  },
  {
   "cell_type": "markdown",
   "metadata": {},
   "source": [
    "https://developer.domain.com.au/docs/v1/apis/pkg_agents_listings/references/listings_detailedresidentialsearch"
   ]
  },
  {
   "cell_type": "code",
   "execution_count": 28,
   "metadata": {},
   "outputs": [
    {
     "ename": "KeyError",
     "evalue": "\"Key 'articles' not found. If specifying a record_path, all elements of data should have the path.\"",
     "output_type": "error",
     "traceback": [
      "\u001b[0;31m---------------------------------------------------------------------------\u001b[0m",
      "\u001b[0;31mKeyError\u001b[0m                                  Traceback (most recent call last)",
      "File \u001b[0;32m/opt/anaconda3/envs/MAST30034/lib/python3.8/site-packages/pandas/io/json/_normalize.py:396\u001b[0m, in \u001b[0;36m_json_normalize.<locals>._pull_field\u001b[0;34m(js, spec, extract_record)\u001b[0m\n\u001b[1;32m    395\u001b[0m     \u001b[39melse\u001b[39;00m:\n\u001b[0;32m--> 396\u001b[0m         result \u001b[39m=\u001b[39m result[spec]\n\u001b[1;32m    397\u001b[0m \u001b[39mexcept\u001b[39;00m \u001b[39mKeyError\u001b[39;00m \u001b[39mas\u001b[39;00m e:\n",
      "\u001b[0;31mKeyError\u001b[0m: 'articles'",
      "\nThe above exception was the direct cause of the following exception:\n",
      "\u001b[0;31mKeyError\u001b[0m                                  Traceback (most recent call last)",
      "\u001b[1;32m/Users/aaronz/Desktop/MAST30034_Applied Data Science/Project 2/generic-real-estate-consulting-project-group-60/notebooks/API_Get_previous_house.ipynb Cell 9\u001b[0m in \u001b[0;36m<cell line: 1>\u001b[0;34m()\u001b[0m\n\u001b[0;32m----> <a href='vscode-notebook-cell:/Users/aaronz/Desktop/MAST30034_Applied%20Data%20Science/Project%202/generic-real-estate-consulting-project-group-60/notebooks/API_Get_previous_house.ipynb#X11sZmlsZQ%3D%3D?line=0'>1</a>\u001b[0m a \u001b[39m=\u001b[39m pd\u001b[39m.\u001b[39;49mjson_normalize(r, \u001b[39m'\u001b[39;49m\u001b[39marticles\u001b[39;49m\u001b[39m'\u001b[39;49m)\n",
      "File \u001b[0;32m/opt/anaconda3/envs/MAST30034/lib/python3.8/site-packages/pandas/io/json/_normalize.py:515\u001b[0m, in \u001b[0;36m_json_normalize\u001b[0;34m(data, record_path, meta, meta_prefix, record_prefix, errors, sep, max_level)\u001b[0m\n\u001b[1;32m    512\u001b[0m                 meta_vals[key]\u001b[39m.\u001b[39mappend(meta_val)\n\u001b[1;32m    513\u001b[0m             records\u001b[39m.\u001b[39mextend(recs)\n\u001b[0;32m--> 515\u001b[0m _recursive_extract(data, record_path, {}, level\u001b[39m=\u001b[39;49m\u001b[39m0\u001b[39;49m)\n\u001b[1;32m    517\u001b[0m result \u001b[39m=\u001b[39m DataFrame(records)\n\u001b[1;32m    519\u001b[0m \u001b[39mif\u001b[39;00m record_prefix \u001b[39mis\u001b[39;00m \u001b[39mnot\u001b[39;00m \u001b[39mNone\u001b[39;00m:\n\u001b[1;32m    520\u001b[0m     \u001b[39m# Incompatible types in assignment (expression has type \"Optional[DataFrame]\",\u001b[39;00m\n\u001b[1;32m    521\u001b[0m     \u001b[39m# variable has type \"DataFrame\")\u001b[39;00m\n",
      "File \u001b[0;32m/opt/anaconda3/envs/MAST30034/lib/python3.8/site-packages/pandas/io/json/_normalize.py:497\u001b[0m, in \u001b[0;36m_json_normalize.<locals>._recursive_extract\u001b[0;34m(data, path, seen_meta, level)\u001b[0m\n\u001b[1;32m    495\u001b[0m \u001b[39melse\u001b[39;00m:\n\u001b[1;32m    496\u001b[0m     \u001b[39mfor\u001b[39;00m obj \u001b[39min\u001b[39;00m data:\n\u001b[0;32m--> 497\u001b[0m         recs \u001b[39m=\u001b[39m _pull_records(obj, path[\u001b[39m0\u001b[39;49m])\n\u001b[1;32m    498\u001b[0m         recs \u001b[39m=\u001b[39m [\n\u001b[1;32m    499\u001b[0m             nested_to_record(r, sep\u001b[39m=\u001b[39msep, max_level\u001b[39m=\u001b[39mmax_level)\n\u001b[1;32m    500\u001b[0m             \u001b[39mif\u001b[39;00m \u001b[39misinstance\u001b[39m(r, \u001b[39mdict\u001b[39m)\n\u001b[1;32m    501\u001b[0m             \u001b[39melse\u001b[39;00m r\n\u001b[1;32m    502\u001b[0m             \u001b[39mfor\u001b[39;00m r \u001b[39min\u001b[39;00m recs\n\u001b[1;32m    503\u001b[0m         ]\n\u001b[1;32m    505\u001b[0m         \u001b[39m# For repeating the metadata later\u001b[39;00m\n",
      "File \u001b[0;32m/opt/anaconda3/envs/MAST30034/lib/python3.8/site-packages/pandas/io/json/_normalize.py:419\u001b[0m, in \u001b[0;36m_json_normalize.<locals>._pull_records\u001b[0;34m(js, spec)\u001b[0m\n\u001b[1;32m    413\u001b[0m \u001b[39mdef\u001b[39;00m \u001b[39m_pull_records\u001b[39m(js: \u001b[39mdict\u001b[39m[\u001b[39mstr\u001b[39m, Any], spec: \u001b[39mlist\u001b[39m \u001b[39m|\u001b[39m \u001b[39mstr\u001b[39m) \u001b[39m-\u001b[39m\u001b[39m>\u001b[39m \u001b[39mlist\u001b[39m:\n\u001b[1;32m    414\u001b[0m     \u001b[39m\"\"\"\u001b[39;00m\n\u001b[1;32m    415\u001b[0m \u001b[39m    Internal function to pull field for records, and similar to\u001b[39;00m\n\u001b[1;32m    416\u001b[0m \u001b[39m    _pull_field, but require to return list. And will raise error\u001b[39;00m\n\u001b[1;32m    417\u001b[0m \u001b[39m    if has non iterable value.\u001b[39;00m\n\u001b[1;32m    418\u001b[0m \u001b[39m    \"\"\"\u001b[39;00m\n\u001b[0;32m--> 419\u001b[0m     result \u001b[39m=\u001b[39m _pull_field(js, spec, extract_record\u001b[39m=\u001b[39;49m\u001b[39mTrue\u001b[39;49;00m)\n\u001b[1;32m    421\u001b[0m     \u001b[39m# GH 31507 GH 30145, GH 26284 if result is not list, raise TypeError if not\u001b[39;00m\n\u001b[1;32m    422\u001b[0m     \u001b[39m# null, otherwise return an empty list\u001b[39;00m\n\u001b[1;32m    423\u001b[0m     \u001b[39mif\u001b[39;00m \u001b[39mnot\u001b[39;00m \u001b[39misinstance\u001b[39m(result, \u001b[39mlist\u001b[39m):\n",
      "File \u001b[0;32m/opt/anaconda3/envs/MAST30034/lib/python3.8/site-packages/pandas/io/json/_normalize.py:399\u001b[0m, in \u001b[0;36m_json_normalize.<locals>._pull_field\u001b[0;34m(js, spec, extract_record)\u001b[0m\n\u001b[1;32m    397\u001b[0m \u001b[39mexcept\u001b[39;00m \u001b[39mKeyError\u001b[39;00m \u001b[39mas\u001b[39;00m e:\n\u001b[1;32m    398\u001b[0m     \u001b[39mif\u001b[39;00m extract_record:\n\u001b[0;32m--> 399\u001b[0m         \u001b[39mraise\u001b[39;00m \u001b[39mKeyError\u001b[39;00m(\n\u001b[1;32m    400\u001b[0m             \u001b[39mf\u001b[39m\u001b[39m\"\u001b[39m\u001b[39mKey \u001b[39m\u001b[39m{\u001b[39;00me\u001b[39m}\u001b[39;00m\u001b[39m not found. If specifying a record_path, all elements of \u001b[39m\u001b[39m\"\u001b[39m\n\u001b[1;32m    401\u001b[0m             \u001b[39mf\u001b[39m\u001b[39m\"\u001b[39m\u001b[39mdata should have the path.\u001b[39m\u001b[39m\"\u001b[39m\n\u001b[1;32m    402\u001b[0m         ) \u001b[39mfrom\u001b[39;00m \u001b[39me\u001b[39;00m\n\u001b[1;32m    403\u001b[0m     \u001b[39melif\u001b[39;00m errors \u001b[39m==\u001b[39m \u001b[39m\"\u001b[39m\u001b[39mignore\u001b[39m\u001b[39m\"\u001b[39m:\n\u001b[1;32m    404\u001b[0m         \u001b[39mreturn\u001b[39;00m np\u001b[39m.\u001b[39mnan\n",
      "\u001b[0;31mKeyError\u001b[0m: \"Key 'articles' not found. If specifying a record_path, all elements of data should have the path.\""
     ]
    }
   ],
   "source": [
    "a = pd.json_normalize(r, 'articles')"
   ]
  },
  {
   "cell_type": "code",
   "execution_count": 9,
   "metadata": {},
   "outputs": [
    {
     "ename": "NameError",
     "evalue": "name 'r' is not defined",
     "output_type": "error",
     "traceback": [
      "\u001b[0;31m---------------------------------------------------------------------------\u001b[0m",
      "\u001b[0;31mNameError\u001b[0m                                 Traceback (most recent call last)",
      "\u001b[1;32m/Users/kevin/Documents/GitHub/generic-real-estate-consulting-project-group-60/notebooks/API_Get_previous_house.ipynb Cell 12\u001b[0m in \u001b[0;36m<cell line: 1>\u001b[0;34m()\u001b[0m\n\u001b[0;32m----> <a href='vscode-notebook-cell:/Users/kevin/Documents/GitHub/generic-real-estate-consulting-project-group-60/notebooks/API_Get_previous_house.ipynb#X15sZmlsZQ%3D%3D?line=0'>1</a>\u001b[0m \u001b[39mfor\u001b[39;00m key,item \u001b[39min\u001b[39;00m r\u001b[39m.\u001b[39mitems():\n\u001b[1;32m      <a href='vscode-notebook-cell:/Users/kevin/Documents/GitHub/generic-real-estate-consulting-project-group-60/notebooks/API_Get_previous_house.ipynb#X15sZmlsZQ%3D%3D?line=1'>2</a>\u001b[0m     \u001b[39mprint\u001b[39m(key)\n",
      "\u001b[0;31mNameError\u001b[0m: name 'r' is not defined"
     ]
    }
   ],
   "source": [
    "for key,item in r.items():\n",
    "    print(key)"
   ]
  },
  {
   "cell_type": "code",
   "execution_count": 25,
   "metadata": {},
   "outputs": [
    {
     "data": {
      "text/plain": [
       "dict"
      ]
     },
     "execution_count": 25,
     "metadata": {},
     "output_type": "execute_result"
    }
   ],
   "source": [
    "type(r)"
   ]
  },
  {
   "cell_type": "code",
   "execution_count": null,
   "metadata": {},
   "outputs": [],
   "source": []
  },
  {
   "cell_type": "code",
   "execution_count": 22,
   "metadata": {},
   "outputs": [
    {
     "data": {
      "text/plain": [
       "Index(['address', 'addressId', 'bathrooms', 'bedrooms', 'cadastreType',\n",
       "       'carSpaces', 'created', 'features', 'flatNumber', 'gnafIds', 'id',\n",
       "       'onMarketTypes', 'photos', 'planNumber', 'postcode', 'propertyCategory',\n",
       "       'propertyCategoryId', 'sectionNumber', 'state', 'status',\n",
       "       'streetAddress', 'streetName', 'streetNumber', 'streetType',\n",
       "       'streetTypeLong', 'suburb', 'suburbId', 'urlSlug', 'urlSlugShort',\n",
       "       'zone', 'addressCoordinate.lat', 'addressCoordinate.lon'],\n",
       "      dtype='object')"
      ]
     },
     "execution_count": 22,
     "metadata": {},
     "output_type": "execute_result"
    }
   ],
   "source": []
  }
 ],
 "metadata": {
  "kernelspec": {
   "display_name": "Python 3.10.6 64-bit",
   "language": "python",
   "name": "python3"
  },
  "language_info": {
   "codemirror_mode": {
    "name": "ipython",
    "version": 3
   },
   "file_extension": ".py",
   "mimetype": "text/x-python",
   "name": "python",
   "nbconvert_exporter": "python",
   "pygments_lexer": "ipython3",
   "version": "3.10.6"
  },
  "orig_nbformat": 4,
  "vscode": {
   "interpreter": {
    "hash": "aee8b7b246df8f9039afb4144a1f6fd8d2ca17a180786b69acc140d282b71a49"
   }
  }
 },
 "nbformat": 4,
 "nbformat_minor": 2
}
