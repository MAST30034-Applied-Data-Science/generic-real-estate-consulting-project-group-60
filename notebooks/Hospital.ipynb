{
 "cells": [
  {
   "cell_type": "markdown",
   "metadata": {},
   "source": [
    "# Hospital "
   ]
  },
  {
   "cell_type": "code",
   "execution_count": 59,
   "metadata": {},
   "outputs": [],
   "source": [
    "import pandas as pd"
   ]
  },
  {
   "cell_type": "code",
   "execution_count": 60,
   "metadata": {},
   "outputs": [],
   "source": [
    "hospital_location = pd.read_csv('../data/raw/hospital_name.csv')\n",
    "property_data_2017_2022 = pd.read_csv('../data/raw/2017_2022_house_data.csv')\n",
    "property_data_2023_2025 = pd.read_csv('../data/raw/2023_2025_house_data.csv')"
   ]
  },
  {
   "cell_type": "code",
   "execution_count": 61,
   "metadata": {},
   "outputs": [],
   "source": [
    "postcode = sorted(set(hospital_location['Postcode']))"
   ]
  },
  {
   "cell_type": "code",
   "execution_count": 62,
   "metadata": {},
   "outputs": [],
   "source": [
    "hospital_location = hospital_location.groupby('Postcode').count()[['Formal Name']]"
   ]
  },
  {
   "cell_type": "code",
   "execution_count": 63,
   "metadata": {},
   "outputs": [],
   "source": [
    "hospital_location['Postcodes'] = postcode\n"
   ]
  },
  {
   "cell_type": "code",
   "execution_count": 64,
   "metadata": {},
   "outputs": [],
   "source": [
    "hospital_location.rename({\"Formal Name\":'Hospital num'},axis=1, inplace=True)"
   ]
  },
  {
   "cell_type": "code",
   "execution_count": 65,
   "metadata": {},
   "outputs": [],
   "source": [
    "# Find which SA2 the hospital belongs to\n",
    "po_sa2 = pd.read_csv('../data/raw/postcode_sa2.csv')\n"
   ]
  },
  {
   "cell_type": "code",
   "execution_count": 66,
   "metadata": {},
   "outputs": [],
   "source": [
    "def add_sa2(row,sa2_dataframe):\n",
    "    postcode = row['Postcodes']\n",
    "    selected_postcode = sa2_dataframe.loc[sa2_dataframe['postcodes'] == postcode]\n",
    "    sa2 = [(selected_postcode.iloc[i])[\"SA2_names\"] for i in range(len(selected_postcode))]\n",
    "    sa2=list(set(sa2))\n",
    "    return sa2"
   ]
  },
  {
   "cell_type": "code",
   "execution_count": 67,
   "metadata": {},
   "outputs": [],
   "source": [
    "hospital_location[\"sa2_region\"] = hospital_location.apply(lambda row: add_sa2(row,po_sa2), axis=1)"
   ]
  },
  {
   "cell_type": "code",
   "execution_count": 68,
   "metadata": {},
   "outputs": [],
   "source": [
    "# Merge the number of hospital near by\n",
    "property_data_2017_2022 = pd.merge(property_data_2017_2022,hospital_location, right_on='Postcodes',left_on = 'postcode',how='left')\n",
    "property_data_2023_2025 = pd.merge(property_data_2023_2025,hospital_location, right_on='Postcodes',left_on = 'postcode',how='left')"
   ]
  },
  {
   "cell_type": "code",
   "execution_count": 69,
   "metadata": {},
   "outputs": [],
   "source": [
    "property_data_2017_2022 = property_data_2017_2022.drop(['Postcodes'],axis=1)\n",
    "property_data_2017_2022 = property_data_2017_2022.drop(['sa2_region'],axis=1)\n",
    "property_data_2017_2022 = property_data_2017_2022.drop(['Unnamed: 0.1'],axis=1)\n",
    "property_data_2017_2022 = property_data_2017_2022.drop(['Unnamed: 0'],axis=1)"
   ]
  },
  {
   "cell_type": "code",
   "execution_count": 70,
   "metadata": {},
   "outputs": [],
   "source": [
    "property_data_2023_2025 = property_data_2023_2025.drop(['Postcodes'],axis=1)\n",
    "property_data_2023_2025 = property_data_2023_2025.drop(['sa2_region'],axis=1)\n",
    "property_data_2023_2025 = property_data_2023_2025.drop(['Unnamed: 0'],axis=1)"
   ]
  },
  {
   "cell_type": "code",
   "execution_count": 71,
   "metadata": {},
   "outputs": [],
   "source": [
    "property_data_2017_2022['Hospital num'] =  property_data_2017_2022['Hospital num'].fillna(0)\n",
    "property_data_2023_2025['Hospital num'] =  property_data_2023_2025['Hospital num'].fillna(0)"
   ]
  },
  {
   "cell_type": "code",
   "execution_count": 72,
   "metadata": {},
   "outputs": [],
   "source": [
    "property_data_2017_2022.to_csv('../data/raw/2017_2022_house_data_final.csv')\n",
    "property_data_2023_2025.to_csv('../data/raw/2023_2025_house_data_final.csv')"
   ]
  },
  {
   "cell_type": "code",
   "execution_count": null,
   "metadata": {},
   "outputs": [],
   "source": []
  }
 ],
 "metadata": {
  "kernelspec": {
   "display_name": "Python 3.10.6 64-bit",
   "language": "python",
   "name": "python3"
  },
  "language_info": {
   "codemirror_mode": {
    "name": "ipython",
    "version": 3
   },
   "file_extension": ".py",
   "mimetype": "text/x-python",
   "name": "python",
   "nbconvert_exporter": "python",
   "pygments_lexer": "ipython3",
   "version": "3.10.6"
  },
  "orig_nbformat": 4,
  "vscode": {
   "interpreter": {
    "hash": "aee8b7b246df8f9039afb4144a1f6fd8d2ca17a180786b69acc140d282b71a49"
   }
  }
 },
 "nbformat": 4,
 "nbformat_minor": 2
}
