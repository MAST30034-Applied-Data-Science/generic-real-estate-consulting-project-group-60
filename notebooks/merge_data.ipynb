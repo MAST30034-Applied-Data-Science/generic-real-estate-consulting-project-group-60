{
 "cells": [
  {
   "cell_type": "code",
   "execution_count": 29,
   "id": "4cc93af5-3519-47c9-9e15-fdaeec4d0239",
   "metadata": {},
   "outputs": [],
   "source": [
    "import pandas as pd\n",
    "history = pd.read_csv(\"../data/raw/2017_2021_house_data.csv\")\n",
    "current = pd.read_csv(\"../data/raw/2022_house_data.csv\")"
   ]
  },
  {
   "cell_type": "code",
   "execution_count": 30,
   "id": "266b41e0-c956-404b-b4a7-7ced12ea62ec",
   "metadata": {},
   "outputs": [],
   "source": [
    "current = current.drop(columns=['Unnamed: 0'])\n",
    "history = history.drop(columns=['Unnamed: 0'])"
   ]
  },
  {
   "cell_type": "code",
   "execution_count": 31,
   "id": "91d101c3-23f5-460d-83d0-4887ce5d4c51",
   "metadata": {},
   "outputs": [],
   "source": [
    "# getting distance 2022\n",
    "len_data = pd.read_csv(\"2022_station_len.csv\")\n",
    "aaron_data = pd.read_csv(\"new_property.csv\")"
   ]
  },
  {
   "cell_type": "code",
   "execution_count": 33,
   "id": "09ad5677-fe97-438b-89b1-0024eb1b2600",
   "metadata": {},
   "outputs": [],
   "source": [
    "current_distance = pd.merge(len_data, aaron_data, how='inner')"
   ]
  },
  {
   "cell_type": "code",
   "execution_count": 34,
   "id": "74d361fd-9917-49ee-a999-21f2a481dab7",
   "metadata": {},
   "outputs": [],
   "source": [
    "aaron_data.update(len_data)"
   ]
  },
  {
   "cell_type": "code",
   "execution_count": 35,
   "id": "5cde34cd-483b-485c-b64d-e307bc2e68c1",
   "metadata": {},
   "outputs": [
    {
     "name": "stderr",
     "output_type": "stream",
     "text": [
      "/Users/tianhao/opt/anaconda3/envs/ADS_env/lib/python3.6/site-packages/IPython/core/interactiveshell.py:3072: DtypeWarning: Columns (15,16,17,18) have mixed types.Specify dtype option on import or set low_memory=False.\n",
      "  interactivity=interactivity, compiler=compiler, result=result)\n"
     ]
    }
   ],
   "source": [
    "# getting distance history\n",
    "len_data_history = pd.read_csv(\"17_21_station_Len.csv\")\n",
    "aaron_data_history = pd.read_csv(\"historical_property.csv\")"
   ]
  },
  {
   "cell_type": "code",
   "execution_count": 36,
   "id": "6982ddb6-cac6-463d-9032-7f2eb1bb00f1",
   "metadata": {},
   "outputs": [],
   "source": [
    "aaron_data_history.update(len_data_history)"
   ]
  },
  {
   "cell_type": "code",
   "execution_count": 38,
   "id": "7728e481-5ab1-4c67-8956-660d21a83d5a",
   "metadata": {},
   "outputs": [],
   "source": [
    "merge_2022 = pd.merge(current,aaron_data[['name','real_distance','real_duration','real_station_distance','real_station_duration']],on='name', how='left')"
   ]
  },
  {
   "cell_type": "code",
   "execution_count": null,
   "id": "21099907-a14f-405f-9d9d-eddc5aa5bb92",
   "metadata": {},
   "outputs": [],
   "source": [
    "merge_2022.to_csv(\"../data/raw/2022_final_merged.csv\")"
   ]
  },
  {
   "cell_type": "code",
   "execution_count": 45,
   "id": "d0ad917e-e2d8-403c-bd98-90c4fbfc210b",
   "metadata": {},
   "outputs": [],
   "source": [
    "merge_history = pd.merge(history,aaron_data_history[['name','real_school_distance','real_school_duration','real_station_distance','real_station_duration']],on='name', how='left')"
   ]
  },
  {
   "cell_type": "code",
   "execution_count": null,
   "id": "d407be02-c549-40b3-9311-277f2e5125bd",
   "metadata": {},
   "outputs": [],
   "source": [
    "merge_history.to_csv(\"../data/raw/history_final_merged.csv\")"
   ]
  }
 ],
 "metadata": {
  "kernelspec": {
   "display_name": "Python 3",
   "language": "python",
   "name": "python3"
  },
  "language_info": {
   "codemirror_mode": {
    "name": "ipython",
    "version": 3
   },
   "file_extension": ".py",
   "mimetype": "text/x-python",
   "name": "python",
   "nbconvert_exporter": "python",
   "pygments_lexer": "ipython3",
   "version": "3.6.13"
  }
 },
 "nbformat": 4,
 "nbformat_minor": 5
}
