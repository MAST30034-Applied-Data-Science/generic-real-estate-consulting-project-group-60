{
 "cells": [
  {
   "cell_type": "markdown",
   "metadata": {},
   "source": [
    "# Get API keys"
   ]
  },
  {
   "cell_type": "markdown",
   "metadata": {},
   "source": [
    "10000 limits per client per day as Openroute Service described."
   ]
  },
  {
   "cell_type": "code",
   "execution_count": 1,
   "metadata": {},
   "outputs": [],
   "source": [
    "# Import the function needed\n",
    "\n",
    "import sys\n",
    "import os\n"
   ]
  },
  {
   "cell_type": "code",
   "execution_count": 2,
   "metadata": {},
   "outputs": [
    {
     "name": "stdout",
     "output_type": "stream",
     "text": [
      "[5b3ce3597851110001cf6248cbfec5133fcf4e53a12773fc1404ec0b,5b3ce3597851110001cf6248133fcd5d48a045f9b3723b4d4af72891]\n"
     ]
    }
   ],
   "source": [
    "# convert the keys to list\n",
    "keys = os.environ['API_KEYS']\n",
    "res=keys.strip('[')\n",
    "res=res.strip(']')\n",
    "res=res.split(',')"
   ]
  },
  {
   "cell_type": "code",
   "execution_count": 4,
   "metadata": {},
   "outputs": [],
   "source": []
  },
  {
   "cell_type": "code",
   "execution_count": 5,
   "metadata": {},
   "outputs": [],
   "source": [
    "YOUR_API_KEYS = []\n",
    "\n",
    "for i in range(len(res)):\n",
    "    YOUR_API_KEYS.append(res[i])\n",
    "    \n",
    "YOUR_API_KEYS"
   ]
  }
 ],
 "metadata": {
  "kernelspec": {
   "display_name": "Python 3.8.13 ('MAST30034')",
   "language": "python",
   "name": "python3"
  },
  "language_info": {
   "codemirror_mode": {
    "name": "ipython",
    "version": 3
   },
   "file_extension": ".py",
   "mimetype": "text/x-python",
   "name": "python",
   "nbconvert_exporter": "python",
   "pygments_lexer": "ipython3",
   "version": "3.8.13"
  },
  "orig_nbformat": 4,
  "vscode": {
   "interpreter": {
    "hash": "6193ab8050a3badcc2d3c193784d2c586a4cd29ba426e83f1dfb13462b79c789"
   }
  }
 },
 "nbformat": 4,
 "nbformat_minor": 2
}
