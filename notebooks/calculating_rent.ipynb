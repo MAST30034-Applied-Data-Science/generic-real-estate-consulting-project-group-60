{
 "cells": [
  {
   "cell_type": "code",
   "execution_count": 1,
   "id": "75a6c1aa-01e2-4c7b-adb8-7d573664d627",
   "metadata": {},
   "outputs": [],
   "source": [
    "import pandas as pd\n",
    "# 读 property 数据， 改路径\n",
    "property_data = pd.read_csv('property_data.csv')"
   ]
  },
  {
   "cell_type": "code",
   "execution_count": 2,
   "id": "5f93b5a5-f688-47c5-b711-dfe77d355ff5",
   "metadata": {},
   "outputs": [],
   "source": [
    "import re\n",
    "def extract_cost_number (row):\n",
    "    cost_string = row['cost_text']\n",
    "    \n",
    "    # 替换 / 为 per\n",
    "    cost_string = cost_string.replace('/', ' per ')\n",
    "    \n",
    "    cost_list = []\n",
    "    \n",
    "    # 找出可能的租金字符串\n",
    "    for cost in re.findall('\\d+\\s*\\w+\\s*\\w+',cost_string):\n",
    "        cost_list.append(cost)\n",
    "        \n",
    "    cost_list = [cost.lower() for cost in cost_list]\n",
    "    \n",
    "    # 替换简写\n",
    "    dictOfStrings = {'pw': 'per week', 'weekly': 'week',\n",
    "                    'pcm':'per month','mth':'month','wek':'week',\n",
    "                    'pa':'per year','wk':'week','annually':'year',\n",
    "                    'pwk':'per week','poa':'per year','monthly':'month',\n",
    "                    'pcw':'per week','weekly':'week','annum':'year','pm':'per month'}\n",
    "    replace_abb = []\n",
    "    for cost in cost_list:\n",
    "        for word, replacement in dictOfStrings.items():\n",
    "            cost = re.sub(word, replacement, cost)\n",
    "        replace_abb.append(cost)     \n",
    "    if len(replace_abb) > 0:\n",
    "        cost_type = replace_abb[0]\n",
    "        # 替换单字母简写\n",
    "        dictOfAlpha = {'h':'hour','d':'day','w':'week','m':'month','y':'year'}\n",
    "        processed_test = ''\n",
    "        for w in cost_type.split():\n",
    "            if (len(w) == 1) and (w in dictOfAlpha):\n",
    "                processed_test += dictOfAlpha[w]\n",
    "            else:\n",
    "                processed_test += w\n",
    "            processed_test += \" \"\n",
    "        rent_type = ''.join([i for i in processed_test if not i.isdigit()])\n",
    "        cost = ''.join([i for i in processed_test if i.isdigit()])\n",
    "        if 'hour' in rent_type:\n",
    "            rent_per_week = float(cost)*24*7\n",
    "        elif 'day' in rent_type:\n",
    "            rent_per_week = float(cost)*7    \n",
    "        elif 'month' in rent_type:\n",
    "            rent_per_week = (float(cost)/30)*7   \n",
    "        elif 'year' in rent_type:\n",
    "            rent_per_week = (float(cost)/365)*7  \n",
    "        elif 'fortnightly' in rent_type:\n",
    "            rent_per_week = (float(cost)/2)  \n",
    "        else:\n",
    "            rent_per_week = float(cost)\n",
    "        return rent_per_week\n",
    "    else:\n",
    "        return \"No Available\"    "
   ]
  },
  {
   "cell_type": "code",
   "execution_count": 3,
   "id": "61147b73-7418-43ae-8766-555a095fbaa9",
   "metadata": {},
   "outputs": [],
   "source": [
    "property_data['week_rent'] = property_data.apply (lambda row: extract_cost_number(row), axis=1)"
   ]
  }
 ],
 "metadata": {
  "kernelspec": {
   "display_name": "Python 3",
   "language": "python",
   "name": "python3"
  },
  "language_info": {
   "codemirror_mode": {
    "name": "ipython",
    "version": 3
   },
   "file_extension": ".py",
   "mimetype": "text/x-python",
   "name": "python",
   "nbconvert_exporter": "python",
   "pygments_lexer": "ipython3",
   "version": "3.6.13"
  }
 },
 "nbformat": 4,
 "nbformat_minor": 5
}
