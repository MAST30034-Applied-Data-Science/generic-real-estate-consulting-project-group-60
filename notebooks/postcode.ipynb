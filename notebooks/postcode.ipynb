{
 "cells": [
  {
   "cell_type": "code",
   "execution_count": 3,
   "metadata": {},
   "outputs": [],
   "source": [
    "# Import libraries\n",
    "import requests\n",
    "from bs4 import BeautifulSoup\n",
    "import pandas as pd\n",
    "\n",
    "# Create an URL object\n",
    "url = 'https://www.matthewproctor.com/full_australian_postcodes_vic'\n",
    "# Create object page\n",
    "page = requests.get(url)\n",
    "\n",
    "\n",
    "# parser-lxml = Change html to Python friendly format\n",
    "# Obtain page's information\n",
    "soup = BeautifulSoup(page.text, 'lxml')\n",
    "soup\n",
    "\n",
    "\n",
    "\n",
    "table1 = soup.find('table', attrs={'class':'table table-striped'})\n",
    "\n",
    "\n",
    "\n"
   ]
  },
  {
   "cell_type": "code",
   "execution_count": 4,
   "metadata": {},
   "outputs": [],
   "source": [
    "import pandas as pd\n",
    "import os\n",
    "import sys"
   ]
  },
  {
   "cell_type": "code",
   "execution_count": 6,
   "metadata": {},
   "outputs": [],
   "source": [
    "data = []\n",
    "for element in table1:\n",
    "    sub_data = []\n",
    "    for sub_element in element:\n",
    "        try:\n",
    "            sub_data.append(sub_element.get_text())\n",
    "        except:\n",
    "            continue\n",
    "    data.append(sub_data)"
   ]
  },
  {
   "cell_type": "code",
   "execution_count": 11,
   "metadata": {},
   "outputs": [],
   "source": [
    "header = soup.find_all(\"table\")[0].find(\"tr\")\n",
    "list_header = []\n",
    "for items in header:\n",
    "    try:\n",
    "        list_header.append(items.get_text())\n",
    "    except:\n",
    "        continue"
   ]
  },
  {
   "cell_type": "code",
   "execution_count": 12,
   "metadata": {},
   "outputs": [
    {
     "data": {
      "text/plain": [
       "['ID',\n",
       " 'Postcode',\n",
       " 'Locality',\n",
       " 'State',\n",
       " 'Longitude',\n",
       " 'Latitude',\n",
       " 'Category',\n",
       " 'Type',\n",
       " 'SA3',\n",
       " 'SA3 Name',\n",
       " 'SA4',\n",
       " 'SA4 Name',\n",
       " 'Region',\n",
       " 'Status',\n",
       " 'Lat (Google)',\n",
       " 'Long (Google)',\n",
       " 'SA1 MAINCODE 2011',\n",
       " 'SA1 MAINCODE 2016',\n",
       " 'SA2 MAINCODE 2016',\n",
       " 'SA2 NAME 2016',\n",
       " 'RA 2011',\n",
       " 'RA 2016',\n",
       " 'MMM 2015',\n",
       " 'MMM 2019',\n",
       " 'CED',\n",
       " 'Altitude',\n",
       " 'Charge Zone',\n",
       " 'PHN Code',\n",
       " 'PHN Name',\n",
       " 'LGA Region',\n",
       " 'Electorate',\n",
       " 'Electorate Rating']"
      ]
     },
     "execution_count": 12,
     "metadata": {},
     "output_type": "execute_result"
    }
   ],
   "source": [
    "list_header"
   ]
  },
  {
   "cell_type": "code",
   "execution_count": 8,
   "metadata": {},
   "outputs": [
    {
     "ename": "NameError",
     "evalue": "name 'list_header' is not defined",
     "output_type": "error",
     "traceback": [
      "\u001b[0;31m---------------------------------------------------------------------------\u001b[0m",
      "\u001b[0;31mNameError\u001b[0m                                 Traceback (most recent call last)",
      "Input \u001b[0;32mIn [8]\u001b[0m, in \u001b[0;36m<cell line: 1>\u001b[0;34m()\u001b[0m\n\u001b[0;32m----> 1\u001b[0m dataFrame \u001b[38;5;241m=\u001b[39m pd\u001b[38;5;241m.\u001b[39mDataFrame(data \u001b[38;5;241m=\u001b[39m data, columns \u001b[38;5;241m=\u001b[39m \u001b[43mlist_header\u001b[49m)\n",
      "\u001b[0;31mNameError\u001b[0m: name 'list_header' is not defined"
     ]
    }
   ],
   "source": [
    "dataFrame = pd.DataFrame(data = data, columns = list_header)"
   ]
  },
  {
   "cell_type": "code",
   "execution_count": null,
   "metadata": {},
   "outputs": [],
   "source": []
  }
 ],
 "metadata": {
  "kernelspec": {
   "display_name": "Python 3 (ipykernel)",
   "language": "python",
   "name": "python3"
  },
  "language_info": {
   "codemirror_mode": {
    "name": "ipython",
    "version": 3
   },
   "file_extension": ".py",
   "mimetype": "text/x-python",
   "name": "python",
   "nbconvert_exporter": "python",
   "pygments_lexer": "ipython3",
   "version": "3.8.5"
  },
  "vscode": {
   "interpreter": {
    "hash": "aee8b7b246df8f9039afb4144a1f6fd8d2ca17a180786b69acc140d282b71a49"
   }
  }
 },
 "nbformat": 4,
 "nbformat_minor": 4
}
