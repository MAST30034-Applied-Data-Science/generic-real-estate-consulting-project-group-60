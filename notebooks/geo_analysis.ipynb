{
 "cells": [
  {
   "cell_type": "code",
   "execution_count": 2,
   "metadata": {},
   "outputs": [
    {
     "ename": "KeyError",
     "evalue": "\"None of [Index(['latitude', 'longitude'], dtype='object')] are in the [columns]\"",
     "output_type": "error",
     "traceback": [
      "\u001b[0;31m---------------------------------------------------------------------------\u001b[0m",
      "\u001b[0;31mKeyError\u001b[0m                                  Traceback (most recent call last)",
      "\u001b[1;32m/Users/kevin/Documents/GitHub/generic-real-estate-consulting-project-group-60/notebooks/geo_analysis.ipynb Cell 1\u001b[0m in \u001b[0;36m<cell line: 9>\u001b[0;34m()\u001b[0m\n\u001b[1;32m      <a href='vscode-notebook-cell:/Users/kevin/Documents/GitHub/generic-real-estate-consulting-project-group-60/notebooks/geo_analysis.ipynb#W0sZmlsZQ%3D%3D?line=6'>7</a>\u001b[0m gmaps\u001b[39m.\u001b[39mconfigure(api_key\u001b[39m=\u001b[39m\u001b[39m'\u001b[39m\u001b[39myour api key\u001b[39m\u001b[39m'\u001b[39m)\n\u001b[1;32m      <a href='vscode-notebook-cell:/Users/kevin/Documents/GitHub/generic-real-estate-consulting-project-group-60/notebooks/geo_analysis.ipynb#W0sZmlsZQ%3D%3D?line=7'>8</a>\u001b[0m fig \u001b[39m=\u001b[39m gmaps\u001b[39m.\u001b[39mfigure()\n\u001b[1;32m      <a href='vscode-notebook-cell:/Users/kevin/Documents/GitHub/generic-real-estate-consulting-project-group-60/notebooks/geo_analysis.ipynb#W0sZmlsZQ%3D%3D?line=8'>9</a>\u001b[0m heatmap_layer \u001b[39m=\u001b[39m gmaps\u001b[39m.\u001b[39mheatmap_layer(\n\u001b[0;32m---> <a href='vscode-notebook-cell:/Users/kevin/Documents/GitHub/generic-real-estate-consulting-project-group-60/notebooks/geo_analysis.ipynb#W0sZmlsZQ%3D%3D?line=9'>10</a>\u001b[0m   data[[\u001b[39m'\u001b[39;49m\u001b[39mlatitude\u001b[39;49m\u001b[39m'\u001b[39;49m,\u001b[39m'\u001b[39;49m\u001b[39mlongitude\u001b[39;49m\u001b[39m'\u001b[39;49m]],\n\u001b[1;32m     <a href='vscode-notebook-cell:/Users/kevin/Documents/GitHub/generic-real-estate-consulting-project-group-60/notebooks/geo_analysis.ipynb#W0sZmlsZQ%3D%3D?line=10'>11</a>\u001b[0m   weights\u001b[39m=\u001b[39mdata[\u001b[39m'\u001b[39m\u001b[39mhouse_price\u001b[39m\u001b[39m'\u001b[39m],\n\u001b[1;32m     <a href='vscode-notebook-cell:/Users/kevin/Documents/GitHub/generic-real-estate-consulting-project-group-60/notebooks/geo_analysis.ipynb#W0sZmlsZQ%3D%3D?line=11'>12</a>\u001b[0m   max_intensity \u001b[39m=\u001b[39m \u001b[39m1000\u001b[39m,\n\u001b[1;32m     <a href='vscode-notebook-cell:/Users/kevin/Documents/GitHub/generic-real-estate-consulting-project-group-60/notebooks/geo_analysis.ipynb#W0sZmlsZQ%3D%3D?line=12'>13</a>\u001b[0m   point_radius\u001b[39m=\u001b[39m\u001b[39m6.0\u001b[39m\n\u001b[1;32m     <a href='vscode-notebook-cell:/Users/kevin/Documents/GitHub/generic-real-estate-consulting-project-group-60/notebooks/geo_analysis.ipynb#W0sZmlsZQ%3D%3D?line=13'>14</a>\u001b[0m )\n\u001b[1;32m     <a href='vscode-notebook-cell:/Users/kevin/Documents/GitHub/generic-real-estate-consulting-project-group-60/notebooks/geo_analysis.ipynb#W0sZmlsZQ%3D%3D?line=14'>15</a>\u001b[0m fig\n",
      "File \u001b[0;32m/Library/Frameworks/Python.framework/Versions/3.10/lib/python3.10/site-packages/pandas/core/frame.py:3511\u001b[0m, in \u001b[0;36mDataFrame.__getitem__\u001b[0;34m(self, key)\u001b[0m\n\u001b[1;32m   3509\u001b[0m     \u001b[39mif\u001b[39;00m is_iterator(key):\n\u001b[1;32m   3510\u001b[0m         key \u001b[39m=\u001b[39m \u001b[39mlist\u001b[39m(key)\n\u001b[0;32m-> 3511\u001b[0m     indexer \u001b[39m=\u001b[39m \u001b[39mself\u001b[39;49m\u001b[39m.\u001b[39;49mcolumns\u001b[39m.\u001b[39;49m_get_indexer_strict(key, \u001b[39m\"\u001b[39;49m\u001b[39mcolumns\u001b[39;49m\u001b[39m\"\u001b[39;49m)[\u001b[39m1\u001b[39m]\n\u001b[1;32m   3513\u001b[0m \u001b[39m# take() does not accept boolean indexers\u001b[39;00m\n\u001b[1;32m   3514\u001b[0m \u001b[39mif\u001b[39;00m \u001b[39mgetattr\u001b[39m(indexer, \u001b[39m\"\u001b[39m\u001b[39mdtype\u001b[39m\u001b[39m\"\u001b[39m, \u001b[39mNone\u001b[39;00m) \u001b[39m==\u001b[39m \u001b[39mbool\u001b[39m:\n",
      "File \u001b[0;32m/Library/Frameworks/Python.framework/Versions/3.10/lib/python3.10/site-packages/pandas/core/indexes/base.py:5782\u001b[0m, in \u001b[0;36mIndex._get_indexer_strict\u001b[0;34m(self, key, axis_name)\u001b[0m\n\u001b[1;32m   5779\u001b[0m \u001b[39melse\u001b[39;00m:\n\u001b[1;32m   5780\u001b[0m     keyarr, indexer, new_indexer \u001b[39m=\u001b[39m \u001b[39mself\u001b[39m\u001b[39m.\u001b[39m_reindex_non_unique(keyarr)\n\u001b[0;32m-> 5782\u001b[0m \u001b[39mself\u001b[39;49m\u001b[39m.\u001b[39;49m_raise_if_missing(keyarr, indexer, axis_name)\n\u001b[1;32m   5784\u001b[0m keyarr \u001b[39m=\u001b[39m \u001b[39mself\u001b[39m\u001b[39m.\u001b[39mtake(indexer)\n\u001b[1;32m   5785\u001b[0m \u001b[39mif\u001b[39;00m \u001b[39misinstance\u001b[39m(key, Index):\n\u001b[1;32m   5786\u001b[0m     \u001b[39m# GH 42790 - Preserve name from an Index\u001b[39;00m\n",
      "File \u001b[0;32m/Library/Frameworks/Python.framework/Versions/3.10/lib/python3.10/site-packages/pandas/core/indexes/base.py:5842\u001b[0m, in \u001b[0;36mIndex._raise_if_missing\u001b[0;34m(self, key, indexer, axis_name)\u001b[0m\n\u001b[1;32m   5840\u001b[0m     \u001b[39mif\u001b[39;00m use_interval_msg:\n\u001b[1;32m   5841\u001b[0m         key \u001b[39m=\u001b[39m \u001b[39mlist\u001b[39m(key)\n\u001b[0;32m-> 5842\u001b[0m     \u001b[39mraise\u001b[39;00m \u001b[39mKeyError\u001b[39;00m(\u001b[39mf\u001b[39m\u001b[39m\"\u001b[39m\u001b[39mNone of [\u001b[39m\u001b[39m{\u001b[39;00mkey\u001b[39m}\u001b[39;00m\u001b[39m] are in the [\u001b[39m\u001b[39m{\u001b[39;00maxis_name\u001b[39m}\u001b[39;00m\u001b[39m]\u001b[39m\u001b[39m\"\u001b[39m)\n\u001b[1;32m   5844\u001b[0m not_found \u001b[39m=\u001b[39m \u001b[39mlist\u001b[39m(ensure_index(key)[missing_mask\u001b[39m.\u001b[39mnonzero()[\u001b[39m0\u001b[39m]]\u001b[39m.\u001b[39munique())\n\u001b[1;32m   5845\u001b[0m \u001b[39mraise\u001b[39;00m \u001b[39mKeyError\u001b[39;00m(\u001b[39mf\u001b[39m\u001b[39m\"\u001b[39m\u001b[39m{\u001b[39;00mnot_found\u001b[39m}\u001b[39;00m\u001b[39m not in index\u001b[39m\u001b[39m\"\u001b[39m)\n",
      "\u001b[0;31mKeyError\u001b[0m: \"None of [Index(['latitude', 'longitude'], dtype='object')] are in the [columns]\""
     ]
    }
   ],
   "source": [
    "#geo analysis\n",
    "#create a map of NewYork\n",
    "#merge the house data and the postcode data using its postcode and merge the postcode longitude and Latitude data\n",
    "import gmaps \n",
    "import pandas as pd\n",
    "import re\n",
    "data=pd.read_csv('../data/raw/example.csv')\n",
    "gmaps.configure(api_key='your api key')\n",
    "fig = gmaps.figure()\n",
    "heatmap_layer = gmaps.heatmap_layer(\n",
    "  data[['latitude','longitude']],\n",
    "  weights=data['house_price'],\n",
    "  max_intensity = 1000,\n",
    "  point_radius=6.0\n",
    ")\n",
    "fig"
   ]
  }
 ],
 "metadata": {
  "kernelspec": {
   "display_name": "Python 3.10.6 64-bit",
   "language": "python",
   "name": "python3"
  },
  "language_info": {
   "codemirror_mode": {
    "name": "ipython",
    "version": 3
   },
   "file_extension": ".py",
   "mimetype": "text/x-python",
   "name": "python",
   "nbconvert_exporter": "python",
   "pygments_lexer": "ipython3",
   "version": "3.10.6"
  },
  "orig_nbformat": 4,
  "vscode": {
   "interpreter": {
    "hash": "aee8b7b246df8f9039afb4144a1f6fd8d2ca17a180786b69acc140d282b71a49"
   }
  }
 },
 "nbformat": 4,
 "nbformat_minor": 2
}
