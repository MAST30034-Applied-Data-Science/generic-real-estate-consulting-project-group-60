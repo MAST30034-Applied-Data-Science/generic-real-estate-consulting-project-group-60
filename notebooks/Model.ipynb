{
 "cells": [
  {
   "cell_type": "markdown",
   "metadata": {},
   "source": [
    "# Model part"
   ]
  },
  {
   "cell_type": "code",
   "execution_count": 1,
   "metadata": {},
   "outputs": [],
   "source": [
    "import pandas as pd\n",
    "import numpy as np\n",
    "from sklearn.linear_model import LinearRegression\n",
    "#model = LinearRegression()"
   ]
  },
  {
   "cell_type": "code",
   "execution_count": null,
   "metadata": {},
   "outputs": [],
   "source": [
    "train_data = pd.read_csv('../data/raw/2017_2022_house_data.csv')\n",
    "test_data = pd.read_csv('../data/raw/2023_2025_house_data.csv')"
   ]
  },
  {
   "cell_type": "code",
   "execution_count": 2,
   "metadata": {},
   "outputs": [],
   "source": [
    "#train_data[train_data['bed'] != 'NaN']\n",
    "#train_data[train_data['bath'] != 'NaN']\n",
    "#train_data[train_data['car'] != 'NaN']\n",
    "train_data = train_data.dropna()\n",
    "test_data = test_data.dropna()\n",
    "test_data['week_rent'] = '' #This is the stuff we aiming for "
   ]
  },
  {
   "cell_type": "code",
   "execution_count": 3,
   "metadata": {},
   "outputs": [],
   "source": [
    "train_data_x = train_data[['bed','bath','car','Income','Population']]\n",
    "train_data_y = train_data['week_rent']\n",
    "test_data_x = test_data[['bed','bath','car','Income','Population']]\n",
    "model = LinearRegression().fit(train_data_x, train_data_y)\n",
    "#r_sq = model.score(train_data_x, train_data_y)\n",
    "y_pred = model.predict(test_data_x)"
   ]
  },
  {
   "cell_type": "code",
   "execution_count": 6,
   "metadata": {},
   "outputs": [],
   "source": [
    "test_data['week_rent'] = y_pred\n",
    "test_data=test_data[test_data['week_rent'] > 0]"
   ]
  },
  {
   "cell_type": "code",
   "execution_count": 7,
   "metadata": {},
   "outputs": [
    {
     "data": {
      "text/html": [
       "<div>\n",
       "<style scoped>\n",
       "    .dataframe tbody tr th:only-of-type {\n",
       "        vertical-align: middle;\n",
       "    }\n",
       "\n",
       "    .dataframe tbody tr th {\n",
       "        vertical-align: top;\n",
       "    }\n",
       "\n",
       "    .dataframe thead th {\n",
       "        text-align: right;\n",
       "    }\n",
       "</style>\n",
       "<table border=\"1\" class=\"dataframe\">\n",
       "  <thead>\n",
       "    <tr style=\"text-align: right;\">\n",
       "      <th></th>\n",
       "      <th>Unnamed: 0</th>\n",
       "      <th>name</th>\n",
       "      <th>property_type</th>\n",
       "      <th>years</th>\n",
       "      <th>coordinates</th>\n",
       "      <th>postcode</th>\n",
       "      <th>sa2_coor</th>\n",
       "      <th>closest_sa2</th>\n",
       "      <th>bed</th>\n",
       "      <th>bath</th>\n",
       "      <th>car</th>\n",
       "      <th>Income</th>\n",
       "      <th>Population</th>\n",
       "      <th>week_rent</th>\n",
       "    </tr>\n",
       "  </thead>\n",
       "  <tbody>\n",
       "    <tr>\n",
       "      <th>0</th>\n",
       "      <td>0</td>\n",
       "      <td>Unit 1201/162 Albert St East Melbourne VIC 3002</td>\n",
       "      <td>Apartment / Unit / Flat</td>\n",
       "      <td>2023</td>\n",
       "      <td>[-37.8100432, 144.9855313]</td>\n",
       "      <td>3002</td>\n",
       "      <td>[xcoord    144.983863\\nycoord    -37.814001\\nN...</td>\n",
       "      <td>East Melbourne</td>\n",
       "      <td>2.0</td>\n",
       "      <td>1.0</td>\n",
       "      <td>1.0</td>\n",
       "      <td>148341.333333</td>\n",
       "      <td>5864.590098</td>\n",
       "      <td>431.706539</td>\n",
       "    </tr>\n",
       "    <tr>\n",
       "      <th>4</th>\n",
       "      <td>4</td>\n",
       "      <td>38/400 Victoria Parade East Melbourne VIC 3002</td>\n",
       "      <td>Apartment / Unit / Flat</td>\n",
       "      <td>2023</td>\n",
       "      <td>[-37.8095627, 144.9848541]</td>\n",
       "      <td>3002</td>\n",
       "      <td>[xcoord    144.983863\\nycoord    -37.814001\\nN...</td>\n",
       "      <td>East Melbourne</td>\n",
       "      <td>3.0</td>\n",
       "      <td>2.0</td>\n",
       "      <td>2.0</td>\n",
       "      <td>148341.333333</td>\n",
       "      <td>5864.590098</td>\n",
       "      <td>3676.204499</td>\n",
       "    </tr>\n",
       "    <tr>\n",
       "      <th>5</th>\n",
       "      <td>5</td>\n",
       "      <td>7/126 Wellington Parade East Melbourne VIC 3002</td>\n",
       "      <td>Apartment / Unit / Flat</td>\n",
       "      <td>2023</td>\n",
       "      <td>[-37.8162107, 144.9859245]</td>\n",
       "      <td>3002</td>\n",
       "      <td>[xcoord    144.983863\\nycoord    -37.814001\\nN...</td>\n",
       "      <td>East Melbourne</td>\n",
       "      <td>3.0</td>\n",
       "      <td>2.0</td>\n",
       "      <td>1.0</td>\n",
       "      <td>148341.333333</td>\n",
       "      <td>5864.590098</td>\n",
       "      <td>1760.014922</td>\n",
       "    </tr>\n",
       "    <tr>\n",
       "      <th>7</th>\n",
       "      <td>7</td>\n",
       "      <td>P08P/191 Powlett Street East Melbourne VIC 3002</td>\n",
       "      <td>Apartment / Unit / Flat</td>\n",
       "      <td>2023</td>\n",
       "      <td>[-37.8100943, 144.9860492]</td>\n",
       "      <td>3002</td>\n",
       "      <td>[xcoord    144.983863\\nycoord    -37.814001\\nN...</td>\n",
       "      <td>East Melbourne</td>\n",
       "      <td>2.0</td>\n",
       "      <td>1.0</td>\n",
       "      <td>1.0</td>\n",
       "      <td>148341.333333</td>\n",
       "      <td>5864.590098</td>\n",
       "      <td>431.706539</td>\n",
       "    </tr>\n",
       "    <tr>\n",
       "      <th>9</th>\n",
       "      <td>9</td>\n",
       "      <td>27/155 Powlett Street East Melbourne VIC 3002</td>\n",
       "      <td>Apartment / Unit / Flat</td>\n",
       "      <td>2023</td>\n",
       "      <td>[-37.8113488, 144.9855803]</td>\n",
       "      <td>3002</td>\n",
       "      <td>[xcoord    144.983863\\nycoord    -37.814001\\nN...</td>\n",
       "      <td>East Melbourne</td>\n",
       "      <td>2.0</td>\n",
       "      <td>1.0</td>\n",
       "      <td>1.0</td>\n",
       "      <td>148341.333333</td>\n",
       "      <td>5864.590098</td>\n",
       "      <td>431.706539</td>\n",
       "    </tr>\n",
       "  </tbody>\n",
       "</table>\n",
       "</div>"
      ],
      "text/plain": [
       "   Unnamed: 0                                             name  \\\n",
       "0           0  Unit 1201/162 Albert St East Melbourne VIC 3002   \n",
       "4           4   38/400 Victoria Parade East Melbourne VIC 3002   \n",
       "5           5  7/126 Wellington Parade East Melbourne VIC 3002   \n",
       "7           7  P08P/191 Powlett Street East Melbourne VIC 3002   \n",
       "9           9    27/155 Powlett Street East Melbourne VIC 3002   \n",
       "\n",
       "             property_type  years                 coordinates  postcode  \\\n",
       "0  Apartment / Unit / Flat   2023  [-37.8100432, 144.9855313]      3002   \n",
       "4  Apartment / Unit / Flat   2023  [-37.8095627, 144.9848541]      3002   \n",
       "5  Apartment / Unit / Flat   2023  [-37.8162107, 144.9859245]      3002   \n",
       "7  Apartment / Unit / Flat   2023  [-37.8100943, 144.9860492]      3002   \n",
       "9  Apartment / Unit / Flat   2023  [-37.8113488, 144.9855803]      3002   \n",
       "\n",
       "                                            sa2_coor     closest_sa2  bed  \\\n",
       "0  [xcoord    144.983863\\nycoord    -37.814001\\nN...  East Melbourne  2.0   \n",
       "4  [xcoord    144.983863\\nycoord    -37.814001\\nN...  East Melbourne  3.0   \n",
       "5  [xcoord    144.983863\\nycoord    -37.814001\\nN...  East Melbourne  3.0   \n",
       "7  [xcoord    144.983863\\nycoord    -37.814001\\nN...  East Melbourne  2.0   \n",
       "9  [xcoord    144.983863\\nycoord    -37.814001\\nN...  East Melbourne  2.0   \n",
       "\n",
       "   bath  car         Income   Population    week_rent  \n",
       "0   1.0  1.0  148341.333333  5864.590098   431.706539  \n",
       "4   2.0  2.0  148341.333333  5864.590098  3676.204499  \n",
       "5   2.0  1.0  148341.333333  5864.590098  1760.014922  \n",
       "7   1.0  1.0  148341.333333  5864.590098   431.706539  \n",
       "9   1.0  1.0  148341.333333  5864.590098   431.706539  "
      ]
     },
     "execution_count": 7,
     "metadata": {},
     "output_type": "execute_result"
    }
   ],
   "source": [
    "test_data.head()"
   ]
  }
 ],
 "metadata": {
  "kernelspec": {
   "display_name": "Python 3.10.6 64-bit",
   "language": "python",
   "name": "python3"
  },
  "language_info": {
   "codemirror_mode": {
    "name": "ipython",
    "version": 3
   },
   "file_extension": ".py",
   "mimetype": "text/x-python",
   "name": "python",
   "nbconvert_exporter": "python",
   "pygments_lexer": "ipython3",
   "version": "3.10.6"
  },
  "orig_nbformat": 4,
  "vscode": {
   "interpreter": {
    "hash": "aee8b7b246df8f9039afb4144a1f6fd8d2ca17a180786b69acc140d282b71a49"
   }
  }
 },
 "nbformat": 4,
 "nbformat_minor": 2
}
