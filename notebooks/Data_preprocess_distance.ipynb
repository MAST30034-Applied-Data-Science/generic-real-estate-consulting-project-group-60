{
 "cells": [
  {
   "cell_type": "markdown",
   "metadata": {},
   "source": [
    "# Distance preprocessing\n"
   ]
  },
  {
   "cell_type": "code",
   "execution_count": 7,
   "metadata": {},
   "outputs": [],
   "source": [
    "import pandas as pd\n",
    "import seaborn as sns\n",
    "import matplotlib.pyplot as plt\n",
    "from pyspark.ml.stat import Correlation\n",
    "from sklearn.ensemble import RandomForestRegressor\n",
    "import numpy as np"
   ]
  },
  {
   "cell_type": "code",
   "execution_count": 8,
   "metadata": {},
   "outputs": [],
   "source": [
    "property_data_2022 = pd.read_csv('../data/raw/2022_final_merged.csv')\n",
    "property_data_2017_2021 = pd.read_csv('../data/raw/history_final_merged.csv')"
   ]
  },
  {
   "cell_type": "code",
   "execution_count": 16,
   "metadata": {},
   "outputs": [],
   "source": [
    "property_data_2022 = property_data_2022[property_data_2022['week_rent']!='No Available']\n",
    "property_data_2022['week_rent'] = property_data_2022['week_rent'].astype('float')\n",
    "property_data_2022.rename({\"real_distance\":'real_school_distance'},axis=1, inplace=True)\n",
    "property_data_2022.rename({\"real_duration\":'real_school_duration'},axis=1, inplace=True)\n",
    "property_data_2017_2021['week_rent'] = property_data_2017_2021['week_rent'].astype('float')\n",
    "all_house = pd.concat([property_data_2017_2021,property_data_2022],axis = 0)\n",
    "all_house['car'] = all_house['car'].fillna(0)\n",
    "all_house['bed'] = all_house['bed'].fillna(0)\n",
    "all_house['bath'] = all_house['bath'].fillna(0)\n",
    "#all_house = all_house.dropna()\n",
    "all_house = all_house[all_house['real_school_distance'] != 'school_distance_txt']\n",
    "all_house = all_house[all_house['real_school_duration'] != 'school_duration_txt']\n",
    "all_house = all_house[all_house['real_station_distance'] != 'station_distance_txt']\n",
    "all_house = all_house[all_house['real_station_duration'] != 'station_duration_txt']\n",
    "all_house = all_house[all_house['real_station_duration'] != 'duration_txt']\n",
    "all_house = all_house[all_house['real_school_duration'] != 'duration_txt']\n",
    "all_house['real_school_distance'] = all_house['real_school_distance'].astype('float')\n",
    "all_house['real_school_duration'] = all_house['real_school_duration'].astype('float')\n",
    "all_house['real_station_distance'] = all_house['real_station_distance'].astype('float')\n",
    "all_house['real_station_duration'] = all_house['real_station_duration'].astype('float')\n",
    "all_house = all_house.drop(['Unnamed: 0.1'],axis=1)\n",
    "all_house = all_house.dropna()\n"
   ]
  },
  {
   "cell_type": "code",
   "execution_count": 18,
   "metadata": {},
   "outputs": [],
   "source": [
    "all_house.to_csv('../data/raw/2017_2022_house_data.csv')"
   ]
  }
 ],
 "metadata": {
  "kernelspec": {
   "display_name": "Python 3.10.6 64-bit",
   "language": "python",
   "name": "python3"
  },
  "language_info": {
   "codemirror_mode": {
    "name": "ipython",
    "version": 3
   },
   "file_extension": ".py",
   "mimetype": "text/x-python",
   "name": "python",
   "nbconvert_exporter": "python",
   "pygments_lexer": "ipython3",
   "version": "3.10.6"
  },
  "orig_nbformat": 4,
  "vscode": {
   "interpreter": {
    "hash": "aee8b7b246df8f9039afb4144a1f6fd8d2ca17a180786b69acc140d282b71a49"
   }
  }
 },
 "nbformat": 4,
 "nbformat_minor": 2
}
