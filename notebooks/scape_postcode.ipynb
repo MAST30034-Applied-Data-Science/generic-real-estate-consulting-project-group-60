{
 "cells": [
  {
   "cell_type": "code",
   "execution_count": 1,
   "metadata": {},
   "outputs": [],
   "source": [
    "# Import libraries\n",
    "import requests\n",
    "from bs4 import BeautifulSoup\n",
    "import pandas as pd\n",
    "\n",
    "# Create an URL object\n",
    "url = 'https://www.matthewproctor.com/full_australian_postcodes_vic'\n",
    "# Create object page\n",
    "page = requests.get(url)\n",
    "\n",
    "\n",
    "# parser-lxml = Change html to Python friendly format\n",
    "# Obtain page's information\n",
    "soup = BeautifulSoup(page.text, 'lxml')\n",
    "soup\n",
    "\n",
    "\n",
    "\n",
    "table1 = soup.find('table', attrs={'class':'table table-striped'})\n",
    "\n",
    "\n",
    "\n"
   ]
  },
  {
   "cell_type": "code",
   "execution_count": 2,
   "metadata": {},
   "outputs": [],
   "source": [
    "import pandas as pd\n",
    "import os\n",
    "import sys"
   ]
  },
  {
   "cell_type": "code",
   "execution_count": 3,
   "metadata": {},
   "outputs": [],
   "source": [
    "data = []\n",
    "for element in table1:\n",
    "    sub_data = []\n",
    "    for sub_element in element:\n",
    "        try:\n",
    "            sub_data.append(sub_element.get_text())\n",
    "        except:\n",
    "            continue\n",
    "    data.append(sub_data)"
   ]
  },
  {
   "cell_type": "code",
   "execution_count": 4,
   "metadata": {},
   "outputs": [],
   "source": [
    "header = soup.find_all(\"table\")[0].find(\"tr\")\n",
    "list_header = []\n",
    "for items in header:\n",
    "    try:\n",
    "        list_header.append(items.get_text())\n",
    "    except:\n",
    "        continue"
   ]
  },
  {
   "cell_type": "code",
   "execution_count": 5,
   "metadata": {},
   "outputs": [
    {
     "data": {
      "text/plain": [
       "['ID',\n",
       " 'Postcode',\n",
       " 'Locality',\n",
       " 'State',\n",
       " 'Longitude',\n",
       " 'Latitude',\n",
       " 'Category',\n",
       " 'Type',\n",
       " 'SA3',\n",
       " 'SA3 Name',\n",
       " 'SA4',\n",
       " 'SA4 Name',\n",
       " 'Region',\n",
       " 'Status',\n",
       " 'Lat (Google)',\n",
       " 'Long (Google)',\n",
       " 'SA1 MAINCODE 2011',\n",
       " 'SA1 MAINCODE 2016',\n",
       " 'SA2 MAINCODE 2016',\n",
       " 'SA2 NAME 2016',\n",
       " 'RA 2011',\n",
       " 'RA 2016',\n",
       " 'MMM 2015',\n",
       " 'MMM 2019',\n",
       " 'CED',\n",
       " 'Altitude',\n",
       " 'Charge Zone',\n",
       " 'PHN Code',\n",
       " 'PHN Name',\n",
       " 'LGA Region',\n",
       " 'Electorate',\n",
       " 'Electorate Rating']"
      ]
     },
     "execution_count": 5,
     "metadata": {},
     "output_type": "execute_result"
    }
   ],
   "source": [
    "list_header"
   ]
  },
  {
   "cell_type": "code",
   "execution_count": 6,
   "metadata": {},
   "outputs": [],
   "source": [
    "dataFrame = pd.DataFrame(data = data, columns = list_header)\n",
    "dataFrame=dataFrame.drop(0)"
   ]
  },
  {
   "cell_type": "code",
   "execution_count": 7,
   "metadata": {},
   "outputs": [],
   "source": [
    "#dataFrame.to_csv('PostCode.csv')"
   ]
  },
  {
   "cell_type": "code",
   "execution_count": 8,
   "metadata": {},
   "outputs": [],
   "source": [
    "post_code=pd.read_csv('../data/raw/PostCode.csv')"
   ]
  },
  {
   "cell_type": "code",
   "execution_count": 9,
   "metadata": {},
   "outputs": [
    {
     "data": {
      "text/html": [
       "<div>\n",
       "<style scoped>\n",
       "    .dataframe tbody tr th:only-of-type {\n",
       "        vertical-align: middle;\n",
       "    }\n",
       "\n",
       "    .dataframe tbody tr th {\n",
       "        vertical-align: top;\n",
       "    }\n",
       "\n",
       "    .dataframe thead th {\n",
       "        text-align: right;\n",
       "    }\n",
       "</style>\n",
       "<table border=\"1\" class=\"dataframe\">\n",
       "  <thead>\n",
       "    <tr style=\"text-align: right;\">\n",
       "      <th></th>\n",
       "      <th>SA2 MAINCODE 2016</th>\n",
       "      <th>SA2 NAME 2016</th>\n",
       "      <th>Postcode</th>\n",
       "    </tr>\n",
       "  </thead>\n",
       "  <tbody>\n",
       "    <tr>\n",
       "      <th>0</th>\n",
       "      <td>206041122.0</td>\n",
       "      <td>Melbourne</td>\n",
       "      <td>3000</td>\n",
       "    </tr>\n",
       "    <tr>\n",
       "      <th>1</th>\n",
       "      <td>206041122.0</td>\n",
       "      <td>Melbourne</td>\n",
       "      <td>3001</td>\n",
       "    </tr>\n",
       "    <tr>\n",
       "      <th>2</th>\n",
       "      <td>206041119.0</td>\n",
       "      <td>East Melbourne</td>\n",
       "      <td>3002</td>\n",
       "    </tr>\n",
       "    <tr>\n",
       "      <th>3</th>\n",
       "      <td>206041127.0</td>\n",
       "      <td>West Melbourne</td>\n",
       "      <td>3003</td>\n",
       "    </tr>\n",
       "    <tr>\n",
       "      <th>4</th>\n",
       "      <td>206041126.0</td>\n",
       "      <td>Southbank</td>\n",
       "      <td>3004</td>\n",
       "    </tr>\n",
       "  </tbody>\n",
       "</table>\n",
       "</div>"
      ],
      "text/plain": [
       "   SA2 MAINCODE 2016   SA2 NAME 2016  Postcode\n",
       "0        206041122.0       Melbourne      3000\n",
       "1        206041122.0       Melbourne      3001\n",
       "2        206041119.0  East Melbourne      3002\n",
       "3        206041127.0  West Melbourne      3003\n",
       "4        206041126.0       Southbank      3004"
      ]
     },
     "execution_count": 9,
     "metadata": {},
     "output_type": "execute_result"
    }
   ],
   "source": [
    "post_code = pd.read_csv('../data/raw/PostCode.csv')\n",
    "post_code[['SA2 MAINCODE 2016','SA2 NAME 2016','Postcode']][0:5]"
   ]
  },
  {
   "cell_type": "code",
   "execution_count": 13,
   "metadata": {},
   "outputs": [
    {
     "data": {
      "text/html": [
       "<div>\n",
       "<style scoped>\n",
       "    .dataframe tbody tr th:only-of-type {\n",
       "        vertical-align: middle;\n",
       "    }\n",
       "\n",
       "    .dataframe tbody tr th {\n",
       "        vertical-align: top;\n",
       "    }\n",
       "\n",
       "    .dataframe thead th {\n",
       "        text-align: right;\n",
       "    }\n",
       "</style>\n",
       "<table border=\"1\" class=\"dataframe\">\n",
       "  <thead>\n",
       "    <tr style=\"text-align: right;\">\n",
       "      <th></th>\n",
       "      <th>SA2 MAINCODE 2016</th>\n",
       "      <th>SA2 NAME 2016</th>\n",
       "    </tr>\n",
       "  </thead>\n",
       "  <tbody>\n",
       "    <tr>\n",
       "      <th>67</th>\n",
       "      <td>213051361.0</td>\n",
       "      <td>Hoppers Crossing - North</td>\n",
       "    </tr>\n",
       "    <tr>\n",
       "      <th>68</th>\n",
       "      <td>213051365.0</td>\n",
       "      <td>Tarneit</td>\n",
       "    </tr>\n",
       "    <tr>\n",
       "      <th>69</th>\n",
       "      <td>213051366.0</td>\n",
       "      <td>Truganina</td>\n",
       "    </tr>\n",
       "  </tbody>\n",
       "</table>\n",
       "</div>"
      ],
      "text/plain": [
       "    SA2 MAINCODE 2016             SA2 NAME 2016\n",
       "67        213051361.0  Hoppers Crossing - North\n",
       "68        213051365.0                   Tarneit\n",
       "69        213051366.0                 Truganina"
      ]
     },
     "execution_count": 13,
     "metadata": {},
     "output_type": "execute_result"
    }
   ],
   "source": [
    "post_code[post_code['Postcode']==3029][['SA2 MAINCODE 2016','SA2 NAME 2016']]"
   ]
  }
 ],
 "metadata": {
  "kernelspec": {
   "display_name": "Python 3 (ipykernel)",
   "language": "python",
   "name": "python3"
  },
  "language_info": {
   "codemirror_mode": {
    "name": "ipython",
    "version": 3
   },
   "file_extension": ".py",
   "mimetype": "text/x-python",
   "name": "python",
   "nbconvert_exporter": "python",
   "pygments_lexer": "ipython3",
   "version": "3.10.6"
  },
  "vscode": {
   "interpreter": {
    "hash": "aee8b7b246df8f9039afb4144a1f6fd8d2ca17a180786b69acc140d282b71a49"
   }
  }
 },
 "nbformat": 4,
 "nbformat_minor": 4
}
