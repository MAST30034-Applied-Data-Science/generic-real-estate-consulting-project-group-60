{
 "cells": [
  {
   "cell_type": "code",
   "execution_count": 46,
   "id": "1e051ed4-5fec-49a5-b975-f6521c5f5f2d",
   "metadata": {},
   "outputs": [],
   "source": [
    "import pandas as pd\n",
    "property_2022 = pd.read_csv('../data/raw/2022_property_final_final.csv')"
   ]
  },
  {
   "cell_type": "code",
   "execution_count": 47,
   "id": "ad41f3a7-e720-42d8-b007-674fd0d86594",
   "metadata": {},
   "outputs": [
    {
     "data": {
      "text/html": [
       "<div>\n",
       "<style scoped>\n",
       "    .dataframe tbody tr th:only-of-type {\n",
       "        vertical-align: middle;\n",
       "    }\n",
       "\n",
       "    .dataframe tbody tr th {\n",
       "        vertical-align: top;\n",
       "    }\n",
       "\n",
       "    .dataframe thead th {\n",
       "        text-align: right;\n",
       "    }\n",
       "</style>\n",
       "<table border=\"1\" class=\"dataframe\">\n",
       "  <thead>\n",
       "    <tr style=\"text-align: right;\">\n",
       "      <th></th>\n",
       "      <th>2023 Population</th>\n",
       "      <th>SA2 name</th>\n",
       "    </tr>\n",
       "  </thead>\n",
       "  <tbody>\n",
       "    <tr>\n",
       "      <th>0</th>\n",
       "      <td>17329.283789</td>\n",
       "      <td>Alfredton</td>\n",
       "    </tr>\n",
       "    <tr>\n",
       "      <th>1</th>\n",
       "      <td>12413.874342</td>\n",
       "      <td>Ballarat</td>\n",
       "    </tr>\n",
       "    <tr>\n",
       "      <th>2</th>\n",
       "      <td>7860.948494</td>\n",
       "      <td>Buninyong</td>\n",
       "    </tr>\n",
       "    <tr>\n",
       "      <th>3</th>\n",
       "      <td>11318.066431</td>\n",
       "      <td>Delacombe</td>\n",
       "    </tr>\n",
       "    <tr>\n",
       "      <th>4</th>\n",
       "      <td>4203.091835</td>\n",
       "      <td>Smythes Creek</td>\n",
       "    </tr>\n",
       "  </tbody>\n",
       "</table>\n",
       "</div>"
      ],
      "text/plain": [
       "   2023 Population       SA2 name\n",
       "0     17329.283789      Alfredton\n",
       "1     12413.874342       Ballarat\n",
       "2      7860.948494      Buninyong\n",
       "3     11318.066431      Delacombe\n",
       "4      4203.091835  Smythes Creek"
      ]
     },
     "execution_count": 47,
     "metadata": {},
     "output_type": "execute_result"
    }
   ],
   "source": [
    "#merge the population\n",
    "all_population = pd.read_csv('../data/raw/population_final_predict.csv')\n",
    "\n",
    "# 解决没有3000postcode的人口\n",
    "all_population = all_population.drop(columns=['Unnamed: 0'])\n",
    "melbourne_population = all_population[all_population['SA2 name'].str.contains('Melbourne CBD')].sum(axis=0)\n",
    "melbourne_population['SA2 name'] = 'Melbourne'\n",
    "all_population = all_population.append(melbourne_population,ignore_index=True)\n",
    "\n",
    "all_population_2023 = all_population[['2023 Population','SA2 name']]\n",
    "all_population_2024 = all_population[['2024 Population','SA2 name']]\n",
    "all_population_2025 = all_population[['2025 Population','SA2 name']]\n",
    "\n",
    "all_population_2023.head()"
   ]
  },
  {
   "cell_type": "code",
   "execution_count": 48,
   "id": "56cf5f18-9adf-4399-8f39-515dfdd1e652",
   "metadata": {},
   "outputs": [
    {
     "data": {
      "text/html": [
       "<div>\n",
       "<style scoped>\n",
       "    .dataframe tbody tr th:only-of-type {\n",
       "        vertical-align: middle;\n",
       "    }\n",
       "\n",
       "    .dataframe tbody tr th {\n",
       "        vertical-align: top;\n",
       "    }\n",
       "\n",
       "    .dataframe thead th {\n",
       "        text-align: right;\n",
       "    }\n",
       "</style>\n",
       "<table border=\"1\" class=\"dataframe\">\n",
       "  <thead>\n",
       "    <tr style=\"text-align: right;\">\n",
       "      <th></th>\n",
       "      <th>2024Pred</th>\n",
       "      <th>SA2 name</th>\n",
       "    </tr>\n",
       "  </thead>\n",
       "  <tbody>\n",
       "    <tr>\n",
       "      <th>0</th>\n",
       "      <td>71850.457143</td>\n",
       "      <td>Alfredton</td>\n",
       "    </tr>\n",
       "    <tr>\n",
       "      <th>1</th>\n",
       "      <td>96900.200000</td>\n",
       "      <td>Ballarat</td>\n",
       "    </tr>\n",
       "    <tr>\n",
       "      <th>2</th>\n",
       "      <td>72268.695238</td>\n",
       "      <td>Buninyong</td>\n",
       "    </tr>\n",
       "    <tr>\n",
       "      <th>3</th>\n",
       "      <td>64722.714286</td>\n",
       "      <td>Delacombe</td>\n",
       "    </tr>\n",
       "    <tr>\n",
       "      <th>4</th>\n",
       "      <td>66394.495238</td>\n",
       "      <td>Smythes Creek</td>\n",
       "    </tr>\n",
       "  </tbody>\n",
       "</table>\n",
       "</div>"
      ],
      "text/plain": [
       "       2024Pred       SA2 name\n",
       "0  71850.457143      Alfredton\n",
       "1  96900.200000       Ballarat\n",
       "2  72268.695238      Buninyong\n",
       "3  64722.714286      Delacombe\n",
       "4  66394.495238  Smythes Creek"
      ]
     },
     "execution_count": 48,
     "metadata": {},
     "output_type": "execute_result"
    }
   ],
   "source": [
    "#merge the income By SA2\n",
    "all_income = pd.read_csv('../data/raw/Income_Prediction.csv')\n",
    "\n",
    "# Manually filling the income of Melbourne \n",
    "# https://www.averagesalarysurvey.com/melbourne-australia\n",
    "# 解决没有3000postcode的income\n",
    "data = {'SA2 code': [206041122],\n",
    "        'SA2 name': ['Melbourne'],\n",
    "        '2010': [64792],\n",
    "        '2011':[69316],\n",
    "        '2012':[71532],\n",
    "        '2013':[72800],\n",
    "        '2014':[74827],\n",
    "        '2015':[76189],\n",
    "        '2017Pred':[87360],\n",
    "        '2018Pred':[91230],\n",
    "        '2019Pred':[99820],\n",
    "        '2020Pred':[116530],\n",
    "        '2021Pred':[120000],\n",
    "        '2022Pred':[126197],\n",
    "        '2023Pred':[129324],\n",
    "        '2024Pred':[134234],\n",
    "        '2025Pred':[135233],\n",
    "        '2026Pred':[136249],\n",
    "        '2027Pred':[140124]}  \n",
    "# Create DataFrame  \n",
    "df = pd.DataFrame(data)  \n",
    "all_income = all_income.append(df)\n",
    "\n",
    "all_income_2023 = all_income[['2023Pred','SA2 name']]\n",
    "all_income_2024 = all_income[['2024Pred','SA2 name']]\n",
    "all_income_2025 = all_income[['2025Pred','SA2 name']]\n",
    "all_income_2024.head()"
   ]
  },
  {
   "cell_type": "code",
   "execution_count": 49,
   "id": "0739f59e-93ec-4d29-825a-d0e1dd912f0a",
   "metadata": {},
   "outputs": [],
   "source": [
    "property_2023 = property_2022.drop(columns=['years', 'Income','Population'])\n",
    "property_2024 = property_2022.drop(columns=['years', 'Income','Population'])\n",
    "property_2025 = property_2022.drop(columns=['years', 'Income','Population'])"
   ]
  },
  {
   "cell_type": "code",
   "execution_count": 50,
   "id": "3e0f0866-f15b-455c-895b-c611a8e764a1",
   "metadata": {},
   "outputs": [],
   "source": [
    "property_2023['year'] = 2023\n",
    "property_2024['year'] = 2024\n",
    "property_2025['year'] = 2025"
   ]
  },
  {
   "cell_type": "code",
   "execution_count": 51,
   "id": "7af53b81-121a-4f00-96fc-3976a2ac5291",
   "metadata": {},
   "outputs": [],
   "source": [
    "property_2023 = property_2023.merge(all_population_2023, left_on='closest_sa2', right_on='SA2 name', how='left')\n",
    "property_2023 = property_2023.merge(all_income_2023, left_on='closest_sa2', right_on='SA2 name', how='left')\n",
    "property_2024 = property_2024.merge(all_population_2024, left_on='closest_sa2', right_on='SA2 name', how='left')\n",
    "property_2024 = property_2024.merge(all_income_2024, left_on='closest_sa2', right_on='SA2 name', how='left')\n",
    "property_2025 = property_2025.merge(all_population_2025, left_on='closest_sa2', right_on='SA2 name', how='left')\n",
    "property_2025 = property_2025.merge(all_income_2025, left_on='closest_sa2', right_on='SA2 name', how='left')"
   ]
  },
  {
   "cell_type": "code",
   "execution_count": 52,
   "id": "1e461e19-2ea0-4213-9bb6-cf30ec05a122",
   "metadata": {},
   "outputs": [],
   "source": [
    "property_2023 = property_2023.drop(columns=['SA2 name_x', 'SA2 name_y'])\n",
    "property_2024 = property_2024.drop(columns=['SA2 name_x', 'SA2 name_y'])\n",
    "property_2025 = property_2025.drop(columns=['SA2 name_x', 'SA2 name_y'])"
   ]
  },
  {
   "cell_type": "code",
   "execution_count": 53,
   "id": "f140eeba-a3f4-412e-9f16-db20d2ded96b",
   "metadata": {},
   "outputs": [],
   "source": [
    "property_2023 = property_2023.rename(columns={'2023Pred': 'Income'})\n",
    "property_2024 = property_2024.rename(columns={'2024Pred': 'Income'})\n",
    "property_2025 = property_2025.rename(columns={'2025Pred': 'Income'})"
   ]
  },
  {
   "cell_type": "code",
   "execution_count": 60,
   "id": "ed33f1d1-00b4-4080-9d41-0d830570a8c7",
   "metadata": {},
   "outputs": [],
   "source": [
    "property_2023 = property_2023.rename(columns={'2023 Population': 'Population'})\n",
    "property_2024 = property_2024.rename(columns={'2024 Population': 'Population'})\n",
    "property_2025 = property_2025.rename(columns={'2025 Population': 'Population'})"
   ]
  },
  {
   "cell_type": "code",
   "execution_count": 61,
   "id": "af5c025e-bbf6-4531-83ef-721af9b13111",
   "metadata": {},
   "outputs": [],
   "source": [
    "# output data in separate year\n",
    "property_2023.to_csv(\"../data/raw/property_2023.csv\")\n",
    "property_2024.to_csv(\"../data/raw/property_2024.csv\")\n",
    "property_2025.to_csv(\"../data/raw/property_2025.csv\")"
   ]
  },
  {
   "cell_type": "code",
   "execution_count": 62,
   "id": "8c17c94f-751a-4499-b5f0-7b5a38026465",
   "metadata": {},
   "outputs": [],
   "source": [
    "# output a merge data\n",
    "future_year = property_2023.append(property_2024)\n",
    "future_year = future_year.append(property_2025)"
   ]
  },
  {
   "cell_type": "code",
   "execution_count": 64,
   "id": "e292eac1-76be-4689-a85f-3a574e91ef83",
   "metadata": {},
   "outputs": [],
   "source": [
    "future_year.to_csv(\"../data/raw/23To25_property.csv\")"
   ]
  }
 ],
 "metadata": {
  "kernelspec": {
   "display_name": "Python 3.10.6 64-bit",
   "language": "python",
   "name": "python3"
  },
  "language_info": {
   "codemirror_mode": {
    "name": "ipython",
    "version": 3
   },
   "file_extension": ".py",
   "mimetype": "text/x-python",
   "name": "python",
   "nbconvert_exporter": "python",
   "pygments_lexer": "ipython3",
   "version": "3.10.6"
  },
  "vscode": {
   "interpreter": {
    "hash": "aee8b7b246df8f9039afb4144a1f6fd8d2ca17a180786b69acc140d282b71a49"
   }
  }
 },
 "nbformat": 4,
 "nbformat_minor": 5
}
