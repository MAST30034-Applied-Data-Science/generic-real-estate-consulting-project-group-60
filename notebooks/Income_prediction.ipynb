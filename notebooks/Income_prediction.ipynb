{
 "cells": [
  {
   "cell_type": "markdown",
   "id": "55b0386a-335f-4f7a-abbb-1d0812bffdc5",
   "metadata": {},
   "source": [
    "### Income Prediction"
   ]
  },
  {
   "cell_type": "code",
   "execution_count": 1,
   "id": "f2d87c0e-bb36-46ca-9bab-084c87d729aa",
   "metadata": {},
   "outputs": [],
   "source": [
    "import pandas as pd"
   ]
  },
  {
   "cell_type": "code",
   "execution_count": 3,
   "id": "2e5520fc-a490-4ef9-9027-24c677ad9d42",
   "metadata": {},
   "outputs": [],
   "source": [
    "data = pd.read_csv(\"../data/raw/SA2.csv\")\n",
    "SA2 = pd.read_csv(\"../data/curated/SA2_Code&Name.csv\")"
   ]
  },
  {
   "cell_type": "code",
   "execution_count": null,
   "id": "b6d36351-6841-453b-b0cd-3db87e955b62",
   "metadata": {},
   "outputs": [],
   "source": []
  }
 ],
 "metadata": {
  "kernelspec": {
   "display_name": "Python 3 (ipykernel)",
   "language": "python",
   "name": "python3"
  },
  "language_info": {
   "codemirror_mode": {
    "name": "ipython",
    "version": 3
   },
   "file_extension": ".py",
   "mimetype": "text/x-python",
   "name": "python",
   "nbconvert_exporter": "python",
   "pygments_lexer": "ipython3",
   "version": "3.9.7"
  }
 },
 "nbformat": 4,
 "nbformat_minor": 5
}
