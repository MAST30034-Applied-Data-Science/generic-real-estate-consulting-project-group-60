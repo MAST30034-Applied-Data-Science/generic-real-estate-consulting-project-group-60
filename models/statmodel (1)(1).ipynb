{
 "cells": [
  {
   "cell_type": "markdown",
   "id": "8de7086e-5d8d-486c-a85e-4ccc8e00b512",
   "metadata": {},
   "source": [
    "# Finding whether there is a strong linear relationship between features and week rents"
   ]
  },
  {
   "cell_type": "code",
   "execution_count": 270,
   "id": "b9ff717f-6353-4c9c-b407-af28d49a2482",
   "metadata": {},
   "outputs": [],
   "source": [
    "import pandas as pd\n",
    "import matplotlib.pyplot as plt\n",
    "\n",
    "from statsmodels.formula.api import ols, glm"
   ]
  },
  {
   "cell_type": "code",
   "execution_count": 271,
   "id": "6061c9a7-e3fd-437e-8861-d201dfcc25d1",
   "metadata": {},
   "outputs": [],
   "source": [
    "train_history = pd.read_csv('../data/raw/2017_2022_house_data_final.csv')"
   ]
  },
  {
   "cell_type": "code",
   "execution_count": 272,
   "id": "6e17be14-0e6e-4a7d-afc3-6888b46c3d78",
   "metadata": {},
   "outputs": [],
   "source": [
    "train_history = train_history.drop(columns=['Unnamed: 0'])"
   ]
  },
  {
   "cell_type": "code",
   "execution_count": 273,
   "id": "4ecfa8c4-6598-4fc9-ab1a-22196b0bbd8c",
   "metadata": {},
   "outputs": [
    {
     "data": {
      "text/plain": [
       "name                      object\n",
       "years                      int64\n",
       "property_type             object\n",
       "coordinates               object\n",
       "postcode                   int64\n",
       "sa2_coor                  object\n",
       "closest_sa2               object\n",
       "bed                      float64\n",
       "bath                     float64\n",
       "car                      float64\n",
       "Income                   float64\n",
       "Population               float64\n",
       "week_rent                 object\n",
       "real_school_distance      object\n",
       "real_school_duration      object\n",
       "real_station_distance     object\n",
       "real_station_duration     object\n",
       "Hospital num             float64\n",
       "dtype: object"
      ]
     },
     "execution_count": 273,
     "metadata": {},
     "output_type": "execute_result"
    }
   ],
   "source": [
    "train_history.dtypes"
   ]
  },
  {
   "cell_type": "code",
   "execution_count": 275,
   "id": "7d2606e7-34b2-43fb-93c5-abb0bf18493b",
   "metadata": {},
   "outputs": [],
   "source": [
    "train_history = train_history[train_history.real_school_distance != 'school_distance_txt']"
   ]
  },
  {
   "cell_type": "code",
   "execution_count": 277,
   "id": "3d0267d9-e133-45dc-9b3d-eed125c1dec4",
   "metadata": {},
   "outputs": [],
   "source": [
    "train_history = train_history[train_history.week_rent != 'No Available']"
   ]
  },
  {
   "cell_type": "code",
   "execution_count": 278,
   "id": "cf745fa0-4b83-4bbd-9e18-9ce5cce0dcb1",
   "metadata": {},
   "outputs": [],
   "source": [
    "# Change data type\n",
    "train_history = train_history.astype({'closest_sa2': 'category','real_school_distance': 'float',\n",
    "                      'real_school_duration': 'float','real_station_distance': 'float',\n",
    "                     'real_station_duration': 'float','week_rent':'float'})"
   ]
  },
  {
   "cell_type": "code",
   "execution_count": 281,
   "id": "10713219-c1a7-422e-bfea-b2dffdee10e7",
   "metadata": {},
   "outputs": [
    {
     "data": {
      "text/plain": [
       "name                       object\n",
       "years                       int64\n",
       "property_type              object\n",
       "coordinates                object\n",
       "postcode                    int64\n",
       "sa2_coor                   object\n",
       "closest_sa2              category\n",
       "bed                       float64\n",
       "bath                      float64\n",
       "car                       float64\n",
       "Income                    float64\n",
       "Population                float64\n",
       "week_rent                 float64\n",
       "real_school_distance      float64\n",
       "real_school_duration      float64\n",
       "real_station_distance     float64\n",
       "real_station_duration     float64\n",
       "Hospital num              float64\n",
       "dtype: object"
      ]
     },
     "execution_count": 281,
     "metadata": {},
     "output_type": "execute_result"
    }
   ],
   "source": [
    "train_history.dtypes"
   ]
  },
  {
   "cell_type": "code",
   "execution_count": 283,
   "id": "93b86329-4df2-44c9-a768-2ec21611dd39",
   "metadata": {},
   "outputs": [
    {
     "data": {
      "text/html": [
       "<div>\n",
       "<style scoped>\n",
       "    .dataframe tbody tr th:only-of-type {\n",
       "        vertical-align: middle;\n",
       "    }\n",
       "\n",
       "    .dataframe tbody tr th {\n",
       "        vertical-align: top;\n",
       "    }\n",
       "\n",
       "    .dataframe thead th {\n",
       "        text-align: right;\n",
       "    }\n",
       "</style>\n",
       "<table border=\"1\" class=\"dataframe\">\n",
       "  <thead>\n",
       "    <tr style=\"text-align: right;\">\n",
       "      <th></th>\n",
       "      <th>years</th>\n",
       "      <th>postcode</th>\n",
       "      <th>closest_sa2</th>\n",
       "      <th>property_type</th>\n",
       "      <th>bed</th>\n",
       "      <th>bath</th>\n",
       "      <th>car</th>\n",
       "      <th>Income</th>\n",
       "      <th>Population</th>\n",
       "      <th>week_rent</th>\n",
       "      <th>real_school_distance</th>\n",
       "      <th>real_school_duration</th>\n",
       "      <th>real_station_distance</th>\n",
       "      <th>real_station_duration</th>\n",
       "      <th>Hospital num</th>\n",
       "    </tr>\n",
       "  </thead>\n",
       "  <tbody>\n",
       "    <tr>\n",
       "      <th>28284</th>\n",
       "      <td>2022</td>\n",
       "      <td>3996</td>\n",
       "      <td>Wonthaggi - Inverloch</td>\n",
       "      <td>House</td>\n",
       "      <td>2.0000</td>\n",
       "      <td>1.0000</td>\n",
       "      <td>1.0000</td>\n",
       "      <td>48,982.6762</td>\n",
       "      <td>26,149.6441</td>\n",
       "      <td>400.0000</td>\n",
       "      <td>0.6000</td>\n",
       "      <td>0.9000</td>\n",
       "      <td>118.0000</td>\n",
       "      <td>95.8000</td>\n",
       "      <td>0.0000</td>\n",
       "    </tr>\n",
       "    <tr>\n",
       "      <th>28285</th>\n",
       "      <td>2022</td>\n",
       "      <td>3996</td>\n",
       "      <td>Wonthaggi - Inverloch</td>\n",
       "      <td>House</td>\n",
       "      <td>4.0000</td>\n",
       "      <td>2.0000</td>\n",
       "      <td>nan</td>\n",
       "      <td>48,982.6762</td>\n",
       "      <td>26,149.6441</td>\n",
       "      <td>550.0000</td>\n",
       "      <td>3.5000</td>\n",
       "      <td>5.0000</td>\n",
       "      <td>118.3000</td>\n",
       "      <td>96.5000</td>\n",
       "      <td>0.0000</td>\n",
       "    </tr>\n",
       "    <tr>\n",
       "      <th>28286</th>\n",
       "      <td>2022</td>\n",
       "      <td>3996</td>\n",
       "      <td>Wonthaggi - Inverloch</td>\n",
       "      <td>House</td>\n",
       "      <td>2.0000</td>\n",
       "      <td>1.0000</td>\n",
       "      <td>nan</td>\n",
       "      <td>48,982.6762</td>\n",
       "      <td>26,149.6441</td>\n",
       "      <td>420.0000</td>\n",
       "      <td>1.0000</td>\n",
       "      <td>2.2000</td>\n",
       "      <td>118.8000</td>\n",
       "      <td>97.0000</td>\n",
       "      <td>0.0000</td>\n",
       "    </tr>\n",
       "    <tr>\n",
       "      <th>28287</th>\n",
       "      <td>2022</td>\n",
       "      <td>3996</td>\n",
       "      <td>Wonthaggi - Inverloch</td>\n",
       "      <td>House</td>\n",
       "      <td>2.0000</td>\n",
       "      <td>1.0000</td>\n",
       "      <td>1.0000</td>\n",
       "      <td>48,982.6762</td>\n",
       "      <td>26,149.6441</td>\n",
       "      <td>370.0000</td>\n",
       "      <td>0.5000</td>\n",
       "      <td>1.3000</td>\n",
       "      <td>118.4000</td>\n",
       "      <td>97.0000</td>\n",
       "      <td>0.0000</td>\n",
       "    </tr>\n",
       "    <tr>\n",
       "      <th>28288</th>\n",
       "      <td>2022</td>\n",
       "      <td>3996</td>\n",
       "      <td>Wonthaggi - Inverloch</td>\n",
       "      <td>House</td>\n",
       "      <td>3.0000</td>\n",
       "      <td>2.0000</td>\n",
       "      <td>1.0000</td>\n",
       "      <td>48,982.6762</td>\n",
       "      <td>26,149.6441</td>\n",
       "      <td>475.0000</td>\n",
       "      <td>0.1000</td>\n",
       "      <td>0.2000</td>\n",
       "      <td>118.0000</td>\n",
       "      <td>95.8000</td>\n",
       "      <td>0.0000</td>\n",
       "    </tr>\n",
       "  </tbody>\n",
       "</table>\n",
       "</div>"
      ],
      "text/plain": [
       "       years  postcode            closest_sa2 property_type    bed   bath  \\\n",
       "28284   2022      3996  Wonthaggi - Inverloch         House 2.0000 1.0000   \n",
       "28285   2022      3996  Wonthaggi - Inverloch         House 4.0000 2.0000   \n",
       "28286   2022      3996  Wonthaggi - Inverloch         House 2.0000 1.0000   \n",
       "28287   2022      3996  Wonthaggi - Inverloch         House 2.0000 1.0000   \n",
       "28288   2022      3996  Wonthaggi - Inverloch         House 3.0000 2.0000   \n",
       "\n",
       "         car      Income  Population  week_rent  real_school_distance  \\\n",
       "28284 1.0000 48,982.6762 26,149.6441   400.0000                0.6000   \n",
       "28285    nan 48,982.6762 26,149.6441   550.0000                3.5000   \n",
       "28286    nan 48,982.6762 26,149.6441   420.0000                1.0000   \n",
       "28287 1.0000 48,982.6762 26,149.6441   370.0000                0.5000   \n",
       "28288 1.0000 48,982.6762 26,149.6441   475.0000                0.1000   \n",
       "\n",
       "       real_school_duration  real_station_distance  real_station_duration  \\\n",
       "28284                0.9000               118.0000                95.8000   \n",
       "28285                5.0000               118.3000                96.5000   \n",
       "28286                2.2000               118.8000                97.0000   \n",
       "28287                1.3000               118.4000                97.0000   \n",
       "28288                0.2000               118.0000                95.8000   \n",
       "\n",
       "       Hospital num  \n",
       "28284        0.0000  \n",
       "28285        0.0000  \n",
       "28286        0.0000  \n",
       "28287        0.0000  \n",
       "28288        0.0000  "
      ]
     },
     "execution_count": 283,
     "metadata": {},
     "output_type": "execute_result"
    }
   ],
   "source": [
    "# filter dataframe\n",
    "COL_FILTER = ['years', 'postcode', 'closest_sa2', 'property_type',\n",
    "              'bed', 'bath', 'car','Income','Population','week_rent',\n",
    "             'real_school_distance','real_school_duration','real_station_distance',\n",
    "             'real_station_duration','Hospital num']\n",
    "df_filtered = train_history[COL_FILTER].reset_index(drop=True)\n",
    "\n",
    "df_filtered.tail()"
   ]
  },
  {
   "cell_type": "code",
   "execution_count": 284,
   "id": "eeb5e31e-f21b-4883-81f2-923fb0ace765",
   "metadata": {},
   "outputs": [
    {
     "data": {
      "image/png": "[encoded data removed]",
      "text/plain": [
       "<Figure size 432x288 with 1 Axes>"
      ]
     },
     "metadata": {
      "needs_background": "light"
     },
     "output_type": "display_data"
    }
   ],
   "source": [
    "df_filtered[['Population', 'week_rent']].plot.scatter(x='Population', y='week_rent')\n",
    "plt.show()"
   ]
  },
  {
   "cell_type": "code",
   "execution_count": 293,
   "id": "54cfccf5-9725-4863-9b86-b307d82b1a5e",
   "metadata": {},
   "outputs": [],
   "source": [
    "df_filtered.columns = df_filtered.columns.str.replace('Hospital num', 'Hospital_num')"
   ]
  },
  {
   "cell_type": "markdown",
   "id": "46911dcc-e475-438b-89ff-95297fbb08a7",
   "metadata": {},
   "source": [
    "# Building the full model"
   ]
  },
  {
   "cell_type": "code",
   "execution_count": 295,
   "id": "a54b84d4-495a-4386-b8b3-25879309c719",
   "metadata": {},
   "outputs": [],
   "source": [
    "fit = ols(\n",
    "    formula=\"week_rent ~ years + postcode +\\\n",
    "    bed + bath + car + Income + Population +\\\n",
    "    real_school_distance + real_school_duration + real_station_distance + real_station_duration + Hospital_num\",\n",
    "    data=df_filtered\n",
    ").fit()"
   ]
  },
  {
   "cell_type": "code",
   "execution_count": 296,
   "id": "ececb4c6-adff-4e93-8945-60dff16b28eb",
   "metadata": {},
   "outputs": [
    {
     "name": "stdout",
     "output_type": "stream",
     "text": [
      "                            OLS Regression Results                            \n",
      "==============================================================================\n",
      "Dep. Variable:              week_rent   R-squared:                       0.109\n",
      "Model:                            OLS   Adj. R-squared:                  0.109\n",
      "Method:                 Least Squares   F-statistic:                     271.8\n",
      "Date:                Fri, 07 Oct 2022   Prob (F-statistic):               0.00\n",
      "Time:                        20:33:49   Log-Likelihood:            -1.9522e+05\n",
      "No. Observations:               26557   AIC:                         3.905e+05\n",
      "Df Residuals:                   26544   BIC:                         3.906e+05\n",
      "Df Model:                          12                                         \n",
      "Covariance Type:            nonrobust                                         \n",
      "=========================================================================================\n",
      "                            coef    std err          t      P>|t|      [0.025      0.975]\n",
      "-----------------------------------------------------------------------------------------\n",
      "Intercept             -8055.2366   2859.820     -2.817      0.005   -1.37e+04   -2449.836\n",
      "years                     4.0269      1.417      2.841      0.004       1.249       6.805\n",
      "postcode                 -0.0560      0.011     -5.049      0.000      -0.078      -0.034\n",
      "bed                      53.8121      3.237     16.624      0.000      47.467      60.157\n",
      "bath                     96.5071      4.752     20.307      0.000      87.192     105.822\n",
      "car                      26.6486      3.000      8.883      0.000      20.768      32.529\n",
      "Income                    0.0031      0.000     24.290      0.000       0.003       0.003\n",
      "Population                0.0010      0.000      2.461      0.014       0.000       0.002\n",
      "real_school_distance      0.5865      0.314      1.870      0.062      -0.028       1.201\n",
      "real_school_duration     -0.7732      0.449     -1.722      0.085      -1.653       0.107\n",
      "real_station_distance     0.6719      0.353      1.901      0.057      -0.021       1.365\n",
      "real_station_duration    -1.2104      0.515     -2.352      0.019      -2.219      -0.202\n",
      "Hospital_num              3.0983      1.607      1.928      0.054      -0.052       6.249\n",
      "==============================================================================\n",
      "Omnibus:                    94669.904   Durbin-Watson:                   1.926\n",
      "Prob(Omnibus):                  0.000   Jarque-Bera (JB):      43726581740.681\n",
      "Skew:                          71.809   Prob(JB):                         0.00\n",
      "Kurtosis:                    6287.569   Cond. No.                     9.21e+07\n",
      "==============================================================================\n",
      "\n",
      "Notes:\n",
      "[1] Standard Errors assume that the covariance matrix of the errors is correctly specified.\n",
      "[2] The condition number is large, 9.21e+07. This might indicate that there are\n",
      "strong multicollinearity or other numerical problems.\n"
     ]
    }
   ],
   "source": [
    "print(fit.summary())"
   ]
  },
  {
   "cell_type": "markdown",
   "id": "994c9787-cd1f-4044-98a7-db393fba0a12",
   "metadata": {},
   "source": [
    "# Removing real_school_duration from our model"
   ]
  },
  {
   "cell_type": "code",
   "execution_count": 320,
   "id": "4197e865-2f85-4971-8cf1-1653f600a32b",
   "metadata": {},
   "outputs": [],
   "source": [
    "fit1 = ols(\n",
    "    formula=\"week_rent ~  years + postcode +\\\n",
    "    bed + bath + car + Income + Population +\\\n",
    "    real_school_distance  + real_station_distance + real_station_duration + Hospital_num\",\n",
    "    data=df_filtered\n",
    ").fit()"
   ]
  },
  {
   "cell_type": "code",
   "execution_count": 321,
   "id": "7d6698d6-34d9-4484-bc6f-98da52b6dd83",
   "metadata": {},
   "outputs": [
    {
     "name": "stdout",
     "output_type": "stream",
     "text": [
      "                            OLS Regression Results                            \n",
      "==============================================================================\n",
      "Dep. Variable:              week_rent   R-squared:                       0.109\n",
      "Model:                            OLS   Adj. R-squared:                  0.109\n",
      "Method:                 Least Squares   F-statistic:                     296.3\n",
      "Date:                Fri, 07 Oct 2022   Prob (F-statistic):               0.00\n",
      "Time:                        20:40:01   Log-Likelihood:            -1.9523e+05\n",
      "No. Observations:               26557   AIC:                         3.905e+05\n",
      "Df Residuals:                   26545   BIC:                         3.906e+05\n",
      "Df Model:                          11                                         \n",
      "Covariance Type:            nonrobust                                         \n",
      "=========================================================================================\n",
      "                            coef    std err          t      P>|t|      [0.025      0.975]\n",
      "-----------------------------------------------------------------------------------------\n",
      "Intercept             -8100.5934   2859.805     -2.833      0.005   -1.37e+04   -2495.223\n",
      "years                     4.0512      1.417      2.858      0.004       1.273       6.829\n",
      "postcode                 -0.0578      0.011     -5.233      0.000      -0.079      -0.036\n",
      "bed                      53.9610      3.236     16.676      0.000      47.618      60.304\n",
      "bath                     96.7845      4.750     20.376      0.000      87.475     106.095\n",
      "car                      26.8414      2.998      8.953      0.000      20.965      32.718\n",
      "Income                    0.0031      0.000     24.322      0.000       0.003       0.003\n",
      "Population                0.0010      0.000      2.534      0.011       0.000       0.002\n",
      "real_school_distance      0.0493      0.034      1.466      0.143      -0.017       0.115\n",
      "real_station_distance     1.0503      0.277      3.794      0.000       0.508       1.593\n",
      "real_station_duration    -1.7379      0.414     -4.202      0.000      -2.549      -0.927\n",
      "Hospital_num              3.1444      1.607      1.956      0.050      -0.006       6.294\n",
      "==============================================================================\n",
      "Omnibus:                    94659.263   Durbin-Watson:                   1.926\n",
      "Prob(Omnibus):                  0.000   Jarque-Bera (JB):      43687422851.842\n",
      "Skew:                          71.785   Prob(JB):                         0.00\n",
      "Kurtosis:                    6284.754   Cond. No.                     9.21e+07\n",
      "==============================================================================\n",
      "\n",
      "Notes:\n",
      "[1] Standard Errors assume that the covariance matrix of the errors is correctly specified.\n",
      "[2] The condition number is large, 9.21e+07. This might indicate that there are\n",
      "strong multicollinearity or other numerical problems.\n"
     ]
    }
   ],
   "source": [
    "print(fit1.summary())"
   ]
  },
  {
   "cell_type": "code",
   "execution_count": 322,
   "id": "9909f736-b3fe-4d6b-a63c-da607bd966b9",
   "metadata": {},
   "outputs": [
    {
     "data": {
      "text/plain": [
       "[[390475.9833076059, 390476.951083198],\n",
       " [390582.41493999615, 390575.19566694286]]"
      ]
     },
     "execution_count": 322,
     "metadata": {},
     "output_type": "execute_result"
    }
   ],
   "source": [
    "[[fit.aic,fit1.aic],[fit.bic,fit1.bic]]"
   ]
  },
  {
   "cell_type": "markdown",
   "id": "d0502521-e465-424b-8bdc-8107cff62f9a",
   "metadata": {},
   "source": [
    "AIC increasing a little, while the decreasing more"
   ]
  },
  {
   "cell_type": "markdown",
   "id": "5ca8ce6e-2d37-4405-8cc1-0d282473d9c8",
   "metadata": {},
   "source": [
    "# Removing real_school_distance from our model"
   ]
  },
  {
   "cell_type": "code",
   "execution_count": 323,
   "id": "412d0ee0-cc34-40de-9036-c9c38abb389c",
   "metadata": {},
   "outputs": [],
   "source": [
    "fit2 = ols(\n",
    "    formula=\"week_rent ~  years + postcode +\\\n",
    "    bed + bath + car + Income + Population +\\\n",
    "    real_station_distance + real_station_duration + Hospital_num\",\n",
    "    data=df_filtered\n",
    ").fit()"
   ]
  },
  {
   "cell_type": "code",
   "execution_count": 324,
   "id": "dbad6c08-fff7-4eb2-b0ae-8ed1df1073d1",
   "metadata": {},
   "outputs": [
    {
     "name": "stdout",
     "output_type": "stream",
     "text": [
      "                            OLS Regression Results                            \n",
      "==============================================================================\n",
      "Dep. Variable:              week_rent   R-squared:                       0.109\n",
      "Model:                            OLS   Adj. R-squared:                  0.109\n",
      "Method:                 Least Squares   F-statistic:                     325.7\n",
      "Date:                Fri, 07 Oct 2022   Prob (F-statistic):               0.00\n",
      "Time:                        20:41:07   Log-Likelihood:            -1.9523e+05\n",
      "No. Observations:               26557   AIC:                         3.905e+05\n",
      "Df Residuals:                   26546   BIC:                         3.906e+05\n",
      "Df Model:                          10                                         \n",
      "Covariance Type:            nonrobust                                         \n",
      "=========================================================================================\n",
      "                            coef    std err          t      P>|t|      [0.025      0.975]\n",
      "-----------------------------------------------------------------------------------------\n",
      "Intercept             -8026.8984   2859.425     -2.807      0.005   -1.36e+04   -2422.273\n",
      "years                     4.0175      1.417      2.835      0.005       1.240       6.795\n",
      "postcode                 -0.0597      0.011     -5.454      0.000      -0.081      -0.038\n",
      "bed                      54.0121      3.236     16.692      0.000      47.670      60.354\n",
      "bath                     97.0345      4.747     20.442      0.000      87.730     106.339\n",
      "car                      26.7595      2.998      8.927      0.000      20.884      32.635\n",
      "Income                    0.0031      0.000     24.345      0.000       0.003       0.003\n",
      "Population                0.0011      0.000      2.664      0.008       0.000       0.002\n",
      "real_station_distance     1.2189      0.252      4.840      0.000       0.725       1.713\n",
      "real_station_duration    -1.9398      0.390     -4.974      0.000      -2.704      -1.175\n",
      "Hospital_num              3.0123      1.605      1.877      0.061      -0.133       6.157\n",
      "==============================================================================\n",
      "Omnibus:                    94655.476   Durbin-Watson:                   1.926\n",
      "Prob(Omnibus):                  0.000   Jarque-Bera (JB):      43674095797.228\n",
      "Skew:                          71.776   Prob(JB):                         0.00\n",
      "Kurtosis:                    6283.796   Cond. No.                     9.21e+07\n",
      "==============================================================================\n",
      "\n",
      "Notes:\n",
      "[1] Standard Errors assume that the covariance matrix of the errors is correctly specified.\n",
      "[2] The condition number is large, 9.21e+07. This might indicate that there are\n",
      "strong multicollinearity or other numerical problems.\n"
     ]
    }
   ],
   "source": [
    "print(fit2.summary())"
   ]
  },
  {
   "cell_type": "code",
   "execution_count": 326,
   "id": "84fdfeec-a33c-451d-87b4-d9f5afe61168",
   "metadata": {},
   "outputs": [
    {
     "data": {
      "text/plain": [
       "[[390475.9833076059, 390476.951083198, 390477.1020668547],\n",
       " [390582.41493999615, 390575.19566694286, 390567.15960195416]]"
      ]
     },
     "execution_count": 326,
     "metadata": {},
     "output_type": "execute_result"
    }
   ],
   "source": [
    "[[fit.aic,fit1.aic,fit2.aic],[fit.bic,fit1.bic,fit2.bic]]"
   ]
  },
  {
   "cell_type": "markdown",
   "id": "a6f1849e-1d68-4014-b9e6-4e47f55d89d8",
   "metadata": {},
   "source": [
    "AIC increase 1, but BIC decrease more"
   ]
  },
  {
   "cell_type": "markdown",
   "id": "8bf5da36-657d-458e-9dbc-77128961d52d",
   "metadata": {},
   "source": [
    "# Removing Hospital_num from our model"
   ]
  },
  {
   "cell_type": "code",
   "execution_count": 327,
   "id": "28064138-76bb-4eec-86e6-604aa96ffc7b",
   "metadata": {},
   "outputs": [],
   "source": [
    "fit3 = ols(\n",
    "    formula=\"week_rent ~  years + postcode +\\\n",
    "    bed + bath + car + Income + Population +\\\n",
    "    real_station_distance + real_station_duration\",\n",
    "    data=df_filtered\n",
    ").fit()"
   ]
  },
  {
   "cell_type": "code",
   "execution_count": 328,
   "id": "6edf256a-7c40-4f2e-8996-e3821be40311",
   "metadata": {},
   "outputs": [
    {
     "name": "stdout",
     "output_type": "stream",
     "text": [
      "                            OLS Regression Results                            \n",
      "==============================================================================\n",
      "Dep. Variable:              week_rent   R-squared:                       0.109\n",
      "Model:                            OLS   Adj. R-squared:                  0.109\n",
      "Method:                 Least Squares   F-statistic:                     361.4\n",
      "Date:                Fri, 07 Oct 2022   Prob (F-statistic):               0.00\n",
      "Time:                        20:42:35   Log-Likelihood:            -1.9523e+05\n",
      "No. Observations:               26557   AIC:                         3.905e+05\n",
      "Df Residuals:                   26547   BIC:                         3.906e+05\n",
      "Df Model:                           9                                         \n",
      "Covariance Type:            nonrobust                                         \n",
      "=========================================================================================\n",
      "                            coef    std err          t      P>|t|      [0.025      0.975]\n",
      "-----------------------------------------------------------------------------------------\n",
      "Intercept             -8256.2477   2856.950     -2.890      0.004   -1.39e+04   -2656.474\n",
      "years                     4.1317      1.416      2.918      0.004       1.356       6.907\n",
      "postcode                 -0.0597      0.011     -5.447      0.000      -0.081      -0.038\n",
      "bed                      53.7287      3.232     16.622      0.000      47.393      60.064\n",
      "bath                     96.9131      4.747     20.417      0.000      87.609     106.217\n",
      "car                      26.5840      2.996      8.872      0.000      20.711      32.457\n",
      "Income                    0.0031      0.000     24.477      0.000       0.003       0.003\n",
      "Population                0.0012      0.000      3.026      0.002       0.000       0.002\n",
      "real_station_distance     1.2357      0.252      4.909      0.000       0.742       1.729\n",
      "real_station_duration    -1.9663      0.390     -5.045      0.000      -2.730      -1.202\n",
      "==============================================================================\n",
      "Omnibus:                    94663.117   Durbin-Watson:                   1.926\n",
      "Prob(Omnibus):                  0.000   Jarque-Bera (JB):      43705295880.455\n",
      "Skew:                          71.793   Prob(JB):                         0.00\n",
      "Kurtosis:                    6286.039   Cond. No.                     9.20e+07\n",
      "==============================================================================\n",
      "\n",
      "Notes:\n",
      "[1] Standard Errors assume that the covariance matrix of the errors is correctly specified.\n",
      "[2] The condition number is large, 9.2e+07. This might indicate that there are\n",
      "strong multicollinearity or other numerical problems.\n"
     ]
    }
   ],
   "source": [
    "print(fit3.summary())"
   ]
  },
  {
   "cell_type": "code",
   "execution_count": 329,
   "id": "c1f1cfd3-6051-487a-8078-aa75eaa65c54",
   "metadata": {},
   "outputs": [
    {
     "data": {
      "text/plain": [
       "[[390475.9833076059, 390476.951083198, 390477.1020668547, 390478.6271285666],\n",
       " [390582.41493999615,\n",
       "  390575.19566694286,\n",
       "  390567.15960195416,\n",
       "  390560.49761502066]]"
      ]
     },
     "execution_count": 329,
     "metadata": {},
     "output_type": "execute_result"
    }
   ],
   "source": [
    "[[fit.aic,fit1.aic,fit2.aic,fit3.aic],[fit.bic,fit1.bic,fit2.bic,fit3.bic]]"
   ]
  },
  {
   "cell_type": "markdown",
   "id": "c5a42489-04c3-447f-ac1c-d272aec4ceef",
   "metadata": {},
   "source": [
    "BIC keep decreasing, and the fit3 is contains our final feature"
   ]
  },
  {
   "cell_type": "markdown",
   "id": "74de852d-dbe7-4927-9a2e-728db2d13f90",
   "metadata": {},
   "source": [
    "# Tried to fit the data in GLM"
   ]
  },
  {
   "cell_type": "code",
   "execution_count": 330,
   "id": "fb251bc4-f4d3-41e0-8c3a-e81c114a66db",
   "metadata": {},
   "outputs": [],
   "source": [
    "fitter = glm(\n",
    "    formula=\"week_rent ~  years + postcode +\\\n",
    "    bed + bath + car + Income + Population +\\\n",
    "    real_station_distance + real_station_duration\",\n",
    "    data=df_filtered\n",
    ").fit()"
   ]
  },
  {
   "cell_type": "code",
   "execution_count": 331,
   "id": "58fe6d37-faa5-4314-9ddf-54241e51e23f",
   "metadata": {},
   "outputs": [
    {
     "name": "stdout",
     "output_type": "stream",
     "text": [
      "                 Generalized Linear Model Regression Results                  \n",
      "==============================================================================\n",
      "Dep. Variable:              week_rent   No. Observations:                26557\n",
      "Model:                            GLM   Df Residuals:                    26547\n",
      "Model Family:                Gaussian   Df Model:                            9\n",
      "Link Function:               identity   Scale:                      1.4222e+05\n",
      "Method:                          IRLS   Log-Likelihood:            -1.9523e+05\n",
      "Date:                Fri, 07 Oct 2022   Deviance:                   3.7756e+09\n",
      "Time:                        20:43:26   Pearson chi2:                 3.78e+09\n",
      "No. Iterations:                     3                                         \n",
      "Covariance Type:            nonrobust                                         \n",
      "=========================================================================================\n",
      "                            coef    std err          z      P>|z|      [0.025      0.975]\n",
      "-----------------------------------------------------------------------------------------\n",
      "Intercept             -8256.2477   2856.950     -2.890      0.004   -1.39e+04   -2656.730\n",
      "years                     4.1317      1.416      2.918      0.004       1.357       6.907\n",
      "postcode                 -0.0597      0.011     -5.447      0.000      -0.081      -0.038\n",
      "bed                      53.7287      3.232     16.622      0.000      47.393      60.064\n",
      "bath                     96.9131      4.747     20.417      0.000      87.610     106.217\n",
      "car                      26.5840      2.996      8.872      0.000      20.711      32.457\n",
      "Income                    0.0031      0.000     24.477      0.000       0.003       0.003\n",
      "Population                0.0012      0.000      3.026      0.002       0.000       0.002\n",
      "real_station_distance     1.2357      0.252      4.909      0.000       0.742       1.729\n",
      "real_station_duration    -1.9663      0.390     -5.045      0.000      -2.730      -1.202\n",
      "=========================================================================================\n"
     ]
    }
   ],
   "source": [
    "print(fitter.summary())"
   ]
  },
  {
   "cell_type": "markdown",
   "id": "f4f28445-2597-40a7-86ac-e0863a03e5ac",
   "metadata": {},
   "source": [
    "# Not Choosing the linear model to explain week rent, because the AIC, R-squared, and Deviance, all tends too large, so the feature we selected only have very weak linear relationship with week rent, so we choose other model to explain week rent"
   ]
  }
 ],
 "metadata": {
  "kernelspec": {
   "display_name": "Python 3.10.6 64-bit",
   "language": "python",
   "name": "python3"
  },
  "language_info": {
   "codemirror_mode": {
    "name": "ipython",
    "version": 3
   },
   "file_extension": ".py",
   "mimetype": "text/x-python",
   "name": "python",
   "nbconvert_exporter": "python",
   "pygments_lexer": "ipython3",
   "version": "3.10.6"
  },
  "vscode": {
   "interpreter": {
    "hash": "aee8b7b246df8f9039afb4144a1f6fd8d2ca17a180786b69acc140d282b71a49"
   }
  }
 },
 "nbformat": 4,
 "nbformat_minor": 5
}
