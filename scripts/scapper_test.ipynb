{
 "cells": [
  {
   "cell_type": "code",
   "execution_count": 10,
   "id": "e4131c70-8756-4e05-a8fe-3e6761eb4a0f",
   "metadata": {},
   "outputs": [],
   "source": [
    "\"\"\"\n",
    "A very simple and basic web scraping script. Feel free to\n",
    "use this as a source of inspiration, but, make sure to attribute\n",
    "it if you do so.\n",
    "This is by no means production code.\n",
    "\"\"\"\n",
    "# built-in imports\n",
    "import re\n",
    "from json import dump\n",
    "\n",
    "from collections import defaultdict\n",
    "\n",
    "# user packages\n",
    "from bs4 import BeautifulSoup, SoupStrainer\n",
    "from urllib.request import urlopen\n",
    "import requests\n",
    "\n",
    "# constants\n",
    "BASE_URL = \"https://www.domain.com.au\"\n",
    "N_PAGES = range(1, 2) # update this to your liking\n",
    "\n",
    "# begin code\n",
    "url_links = []\n",
    "property_metadata = defaultdict(dict)\n",
    "headers = {\"User-Agent\": \"Mozilla/5.0 (X11; CrOS x86_64 12871.102.0) AppleWebKit/537.36 (KHTML, like Gecko) Chrome/81.0.4044.141 Safari/537.36\"}\n",
    "# generate list of urls to visit\n",
    "for page in N_PAGES:\n",
    "    url = BASE_URL + f\"/rent/melbourne-region-vic/?sort=price-desc&page={page}\"\n",
    "    bs_object = BeautifulSoup(requests.get(url,headers = headers).text, \"html.parser\")\n",
    "    # find the unordered list (ul) elements which are the results, then\n",
    "    # find all href (a) tags that are from the base_url website.\n",
    "    index_links = bs_object \\\n",
    "        .find(\n",
    "            \"ul\",\n",
    "            {\"data-testid\": \"results\"}\n",
    "        ) \\\n",
    "        .findAll(\n",
    "            \"a\",\n",
    "            href=re.compile(f\"{BASE_URL}/*\") # the `*` denotes wildcard any\n",
    "        )\n",
    "\n",
    "    for link in index_links:\n",
    "        # if its a property address, add it to the list\n",
    "        if 'address' in link['class']:\n",
    "            url_links.append(link['href'])\n",
    "\n",
    "\n"
   ]
  },
  {
   "cell_type": "code",
   "execution_count": 11,
   "id": "4c441a05-45b4-4f33-b8a9-04f5349978fa",
   "metadata": {},
   "outputs": [
    {
     "name": "stdout",
     "output_type": "stream",
     "text": [
      "['https://www.domain.com.au/667-glenhuntly-road-caulfield-vic-3162-11598047', 'https://www.domain.com.au/upstairs-2c-staley-street-brunswick-vic-3056-13168913', 'https://www.domain.com.au/level-3-302-13-15-lake-street-caroline-springs-vic-3023-15994395', 'https://www.domain.com.au/3502-14-16-the-esplanade-st-kilda-vic-3182-16002767', 'https://www.domain.com.au/9-lansdowne-street-blairgowrie-vic-3942-12127675', 'https://www.domain.com.au/52-black-st-brighton-vic-3186-15410646', 'https://www.domain.com.au/4203-35-spring-street-melbourne-vic-3000-15939303', 'https://www.domain.com.au/335-the-esplanade-indented-head-vic-3223-12688424', 'https://www.domain.com.au/50-south-wharf-drive-docklands-vic-3008-16048359', 'https://www.domain.com.au/901-902-85-market-street-south-melbourne-vic-3205-14089455', 'https://www.domain.com.au/9-keith-court-brighton-vic-3186-16058214', 'https://www.domain.com.au/7-haverbrack-avenue-malvern-vic-3144-16041473', 'https://www.domain.com.au/27-moffat-street-brighton-vic-3186-16024852', 'https://www.domain.com.au/brighton-vic-3186-14427083', 'https://www.domain.com.au/7302-462-elizabeth-street-melbourne-vic-3000-15631154', 'https://www.domain.com.au/2b-mulgoa-street-brighton-vic-3186-16031980', 'https://www.domain.com.au/5-wellington-street-brighton-vic-3186-15950472', 'https://www.domain.com.au/1-bronte-court-hampton-vic-3188-16043802', 'https://www.domain.com.au/3607-80-a-beckett-street-melbourne-vic-3000-11696896', 'https://www.domain.com.au/2202-14-16-the-esplanade-st-kilda-vic-3182-15969170']\n"
     ]
    }
   ],
   "source": []
  },
  {
   "cell_type": "code",
   "execution_count": 13,
   "id": "75b5ba1e-03d3-44c5-81e4-85e76a0dafe7",
   "metadata": {},
   "outputs": [],
   "source": [
    "# for each url, scrape some basic metadata\n",
    "for property_url in url_links[1:]:\n",
    "    bs_object = BeautifulSoup(requests.get(property_url,headers = headers).text, \"html.parser\")\n",
    "\n",
    "    # looks for the header class to get property name\n",
    "    property_metadata[property_url]['name'] = bs_object \\\n",
    "        .find(\"h1\", {\"class\": \"css-164r41r\"}) \\\n",
    "        .text\n",
    "\n",
    "    # looks for the div containing a summary title for cost\n",
    "    property_metadata[property_url]['cost_text'] = bs_object \\\n",
    "        .find(\"div\", {\"data-testid\": \"listing-details__summary-title\"}) \\\n",
    "        .text\n",
    "\n",
    "    # extract coordinates from the hyperlink provided\n",
    "    # i'll let you figure out what this does :P\n",
    "    property_metadata[property_url]['coordinates'] = [\n",
    "        float(coord) for coord in re.findall(\n",
    "            r'destination=([-\\s,\\d\\.]+)', # use regex101.com here if you need to\n",
    "            bs_object \\\n",
    "                .find(\n",
    "                    \"a\",\n",
    "                    {\"target\": \"_blank\", 'rel': \"noopener noreferer\"}\n",
    "                ) \\\n",
    "                .attrs['href']\n",
    "        )[0].split(',')\n",
    "    ]\n",
    "    '''\n",
    "    property_metadata[property_url]['rooms'] = [\n",
    "        re.findall(r'\\d\\s[A-Za-z]+', feature.text)[0] for feature in bs_object \\\n",
    "            .find(\"div\", {\"data-testid\": \"property-features\"}) \\\n",
    "            .findAll(\"span\", {\"data-testid\": \"property-features-text-container\"})\n",
    "    ]\n",
    "    '''\n",
    "\n",
    "    property_metadata[property_url]['desc'] = re \\\n",
    "        .sub(r'<br\\/>', '\\n', str(bs_object.find(\"p\"))) \\\n",
    "        .strip('</p>')\n",
    "\n",
    "# output to example json in data/raw/\n",
    "\n",
    "with open('/Users/tianhao/ads_asmt2/example.json', 'w') as f:\n",
    "    dump(property_metadata, f)"
   ]
  },
  {
   "cell_type": "code",
   "execution_count": null,
   "id": "017335c5-5cb8-4b61-a1bd-2ae2ad0ec2a3",
   "metadata": {},
   "outputs": [],
   "source": []
  }
 ],
 "metadata": {
  "kernelspec": {
   "display_name": "Python 3",
   "language": "python",
   "name": "python3"
  },
  "language_info": {
   "codemirror_mode": {
    "name": "ipython",
    "version": 3
   },
   "file_extension": ".py",
   "mimetype": "text/x-python",
   "name": "python",
   "nbconvert_exporter": "python",
   "pygments_lexer": "ipython3",
   "version": "3.6.13"
  }
 },
 "nbformat": 4,
 "nbformat_minor": 5
}
